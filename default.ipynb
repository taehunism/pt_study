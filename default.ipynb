{
 "cells": [
  {
   "cell_type": "code",
   "execution_count": 1,
   "metadata": {},
   "outputs": [],
   "source": [
    "from torchvision import datasets, transforms\n",
    "from torch.utils import data"
   ]
  },
  {
   "cell_type": "code",
   "execution_count": 2,
   "metadata": {},
   "outputs": [],
   "source": [
    "train_loader = data.DataLoader(\n",
    "    datasets.FashionMNIST('dataset/', train=True, download=True,\n",
    "                         transform=transforms.Compose([\n",
    "                             #증폭 추가\n",
    "                             transforms.RandomHorizontalFlip(),\n",
    "                             transforms.ToTensor(),\n",
    "                             transforms.Normalize(mean=(0.5,), std=(0.5,))\n",
    "                         ])\n",
    "                         ),\n",
    "    batch_size=32\n",
    ")\n",
    "                          \n"
   ]
  },
  {
   "cell_type": "code",
   "execution_count": 3,
   "metadata": {},
   "outputs": [],
   "source": [
    "test_loader = data.DataLoader(\n",
    "    datasets.FashionMNIST('dataset/', train=False, download=True,\n",
    "                         transform=transforms.Compose([\n",
    "                             #증폭 추가\n",
    "                             transforms.RandomHorizontalFlip(),\n",
    "                             transforms.ToTensor(),\n",
    "                             transforms.Normalize(mean=(0.5,), std=(0.5,))\n",
    "                         ])\n",
    "                         ),\n",
    "    batch_size=32\n",
    ")\n",
    "                "
   ]
  },
  {
   "cell_type": "code",
   "execution_count": 4,
   "metadata": {},
   "outputs": [
    {
     "data": {
      "text/plain": [
       "(1875, 313)"
      ]
     },
     "execution_count": 4,
     "metadata": {},
     "output_type": "execute_result"
    }
   ],
   "source": [
    "len(train_loader), len(test_loader) #배치사이즈 32여서 각 길이에 * 32 해주면 됨\n",
    "# 대충 6만개 1만개해서 7만개 -> 잘 했음"
   ]
  },
  {
   "cell_type": "code",
   "execution_count": 5,
   "metadata": {},
   "outputs": [
    {
     "data": {
      "text/plain": [
       "torch.Size([32, 1, 28, 28])"
      ]
     },
     "execution_count": 5,
     "metadata": {},
     "output_type": "execute_result"
    }
   ],
   "source": [
    "images, labels = next(iter(train_loader))\n",
    "images.shape #4개의 값 , batch_size, channel, height, width -> 넓이"
   ]
  },
  {
   "cell_type": "code",
   "execution_count": 6,
   "metadata": {},
   "outputs": [
    {
     "data": {
      "text/plain": [
       "torch.Size([32])"
      ]
     },
     "execution_count": 6,
     "metadata": {},
     "output_type": "execute_result"
    }
   ],
   "source": [
    "labels.shape"
   ]
  },
  {
   "cell_type": "code",
   "execution_count": 7,
   "metadata": {},
   "outputs": [
    {
     "data": {
      "text/plain": [
       "torch.Size([1, 28, 28])"
      ]
     },
     "execution_count": 7,
     "metadata": {},
     "output_type": "execute_result"
    }
   ],
   "source": [
    "images[0].shape"
   ]
  },
  {
   "cell_type": "code",
   "execution_count": 8,
   "metadata": {},
   "outputs": [],
   "source": [
    "import matplotlib.pyplot as plt\n",
    "import numpy as np"
   ]
  },
  {
   "cell_type": "code",
   "execution_count": 9,
   "metadata": {},
   "outputs": [
    {
     "data": {
      "text/plain": [
       "torch.Size([28, 28])"
      ]
     },
     "execution_count": 9,
     "metadata": {},
     "output_type": "execute_result"
    }
   ],
   "source": [
    "import torch\n",
    "torch_image = torch.squeeze(images[0]) #1을 제거 후 28,28 로 시각화를 해보기 위해 squeeze()함수 사용\n",
    "torch_image.shape"
   ]
  },
  {
   "cell_type": "code",
   "execution_count": 10,
   "metadata": {},
   "outputs": [
    {
     "data": {
      "text/plain": [
       "array([[-1.        , -1.        , -1.        , -1.        , -1.        ,\n",
       "        -1.        , -1.        , -1.        , -1.        , -1.        ,\n",
       "        -1.        , -1.        , -1.        , -1.        , -1.        ,\n",
       "        -1.        , -1.        , -1.        , -1.        , -1.        ,\n",
       "        -1.        , -1.        , -1.        , -1.        , -1.        ,\n",
       "        -1.        , -1.        , -1.        ],\n",
       "       [-1.        , -1.        , -1.        , -1.        , -1.        ,\n",
       "        -1.        , -1.        , -1.        , -1.        , -1.        ,\n",
       "        -1.        , -1.        , -1.        , -1.        , -1.        ,\n",
       "        -1.        , -1.        , -1.        , -1.        , -1.        ,\n",
       "        -1.        , -1.        , -1.        , -1.        , -1.        ,\n",
       "        -1.        , -1.        , -1.        ],\n",
       "       [-1.        , -1.        , -1.        , -1.        , -1.        ,\n",
       "        -1.        , -1.        , -1.        , -1.        , -1.        ,\n",
       "        -1.        , -1.        , -1.        , -1.        , -1.        ,\n",
       "        -1.        , -1.        , -1.        , -1.        , -1.        ,\n",
       "        -1.        , -1.        , -1.        , -1.        , -1.        ,\n",
       "        -1.        , -1.        , -1.        ],\n",
       "       [-1.        , -0.99215686, -0.99215686, -1.        , -1.        ,\n",
       "        -1.        , -1.        , -0.96862745, -0.99215686, -1.        ,\n",
       "        -1.        , -0.42745095, -0.8980392 , -1.        , -1.        ,\n",
       "        -0.99215686, -1.        , -1.        , -1.        , -1.        ,\n",
       "        -1.        , -1.        , -1.        , -1.        , -1.        ,\n",
       "        -1.        , -1.        , -1.        ],\n",
       "       [-0.9764706 , -1.        , -1.        , -0.96862745, -0.9764706 ,\n",
       "        -0.99215686, -1.        , -1.        , -1.        , -0.5764706 ,\n",
       "        -0.5137255 , -0.00392157,  0.06666672, -0.7176471 , -1.        ,\n",
       "        -0.9764706 , -1.        , -1.        , -1.        , -1.        ,\n",
       "        -1.        , -1.        , -1.        , -1.        , -1.        ,\n",
       "        -1.        , -1.        , -1.        ],\n",
       "       [-1.        , -0.92156863, -0.90588236, -1.        , -1.        ,\n",
       "        -1.        , -1.        , -0.81960785, -0.03529412,  0.12941182,\n",
       "         0.05098045,  0.3803922 ,  0.6       , -0.19999999, -1.        ,\n",
       "        -0.9529412 , -1.        , -1.        , -1.        , -1.        ,\n",
       "        -1.        , -1.        , -1.        , -1.        , -1.        ,\n",
       "        -1.        , -1.        , -1.        ],\n",
       "       [-0.88235295, -0.4352941 ,  0.0196079 , -0.3960784 , -0.81960785,\n",
       "        -0.4980392 , -0.14509803,  0.26274514,  0.22352946, -0.1607843 ,\n",
       "         0.39607847,  0.62352943,  0.8509804 ,  0.21568632, -1.        ,\n",
       "        -1.        , -1.        , -1.        , -1.        , -1.        ,\n",
       "        -1.        , -1.        , -1.        , -1.        , -1.        ,\n",
       "        -1.        , -1.        , -1.        ],\n",
       "       [-0.4823529 ,  0.34901965, -0.3098039 ,  0.10588241,  0.14509809,\n",
       "        -0.04313725, -0.05098039, -0.00392157,  0.27843142,  0.69411767,\n",
       "         0.69411767,  0.70980394,  0.7490196 ,  0.62352943, -0.4588235 ,\n",
       "        -1.        , -0.99215686, -1.        , -1.        , -1.        ,\n",
       "        -1.        , -1.        , -1.        , -1.        , -1.        ,\n",
       "        -1.        , -1.        , -1.        ],\n",
       "       [-1.        ,  0.79607844,  0.5372549 , -0.03529412, -0.00392157,\n",
       "         0.28627455,  0.67058825,  0.6862745 ,  0.7490196 ,  0.7490196 ,\n",
       "         0.79607844,  0.827451  ,  0.81960785,  0.81960785,  0.5686275 ,\n",
       "        -1.        , -0.99215686, -0.99215686, -0.99215686, -1.        ,\n",
       "        -1.        , -1.        , -1.        , -1.        , -1.        ,\n",
       "        -1.        , -1.        , -1.        ],\n",
       "       [-1.        ,  0.35686278,  0.92156863,  0.7490196 ,  0.73333335,\n",
       "         0.75686276,  0.7411765 ,  0.75686276,  0.78039217,  0.84313726,\n",
       "         0.7882353 ,  0.7490196 ,  0.69411767,  0.7647059 ,  0.43529415,\n",
       "        -1.        , -1.        , -1.        , -1.        , -1.        ,\n",
       "        -1.        , -1.        , -1.        , -1.        , -1.        ,\n",
       "        -1.        , -1.        , -1.        ],\n",
       "       [-1.        ,  0.58431375,  0.90588236,  0.7254902 ,  0.7490196 ,\n",
       "         0.67058825,  0.654902  ,  0.64705884,  0.6627451 ,  0.41176474,\n",
       "         0.5529412 ,  0.67058825,  0.70980394,  0.7882353 ,  0.5137255 ,\n",
       "        -1.        , -1.        , -1.        , -1.        , -1.        ,\n",
       "        -1.        , -1.        , -1.        , -1.        , -1.        ,\n",
       "        -1.        , -1.        , -1.        ],\n",
       "       [-0.5921569 ,  0.6392157 ,  0.54509807,  0.77254903,  0.6627451 ,\n",
       "         0.75686276,  0.70980394,  0.6313726 ,  0.78039217,  0.32549024,\n",
       "         0.5058824 ,  0.70980394,  0.6627451 ,  0.7254902 ,  0.7176471 ,\n",
       "        -0.90588236, -1.        , -0.9764706 , -0.99215686, -1.        ,\n",
       "        -1.        , -1.        , -1.        , -1.        , -1.        ,\n",
       "        -1.        , -1.        , -1.        ],\n",
       "       [-0.56078434,  0.30980396, -0.06666666,  0.92156863,  0.7254902 ,\n",
       "         0.7411765 ,  0.67058825,  0.6862745 ,  0.73333335,  0.5529412 ,\n",
       "         0.5921569 ,  0.70980394,  0.7254902 ,  0.7411765 ,  0.9137255 ,\n",
       "        -0.2235294 , -1.        , -0.9529412 , -1.        , -1.        ,\n",
       "        -1.        , -1.        , -1.        , -1.        , -1.        ,\n",
       "        -1.        , -1.        , -1.        ],\n",
       "       [-1.        , -0.27843136,  0.6392157 ,  0.7019608 ,  0.7019608 ,\n",
       "         0.8352941 ,  0.7490196 ,  0.70980394,  0.67058825,  0.81960785,\n",
       "         0.88235295,  0.7882353 ,  0.8039216 ,  0.7882353 ,  0.8509804 ,\n",
       "        -0.5686275 , -1.        , -1.        , -0.96862745, -1.        ,\n",
       "        -1.        , -1.        , -1.        , -1.        , -1.        ,\n",
       "        -1.        , -1.        , -1.        ],\n",
       "       [-1.        , -0.3960784 ,  1.        ,  0.70980394,  0.6862745 ,\n",
       "         0.79607844,  0.7490196 ,  0.69411767,  0.73333335,  0.7411765 ,\n",
       "         0.7176471 ,  0.7411765 ,  0.7490196 ,  0.7019608 ,  0.77254903,\n",
       "         0.85882354, -1.        , -1.        , -1.        , -1.        ,\n",
       "        -1.        , -0.9843137 , -0.94509804, -0.9529412 , -0.96862745,\n",
       "        -0.99215686, -1.        , -1.        ],\n",
       "       [-1.        ,  0.24705887,  0.9137255 ,  0.75686276,  0.6862745 ,\n",
       "         0.7176471 ,  0.7490196 ,  0.75686276,  0.70980394,  0.654902  ,\n",
       "         0.6313726 ,  0.70980394,  0.73333335,  0.67058825,  0.62352943,\n",
       "         0.7882353 ,  0.6       ,  0.13725495, -0.5137255 , -1.        ,\n",
       "        -1.        , -1.        , -1.        , -1.        , -1.        ,\n",
       "        -1.        , -0.9764706 , -1.        ],\n",
       "       [-1.        ,  0.6862745 ,  0.8666667 ,  0.827451  ,  0.94509804,\n",
       "         0.9607843 ,  0.47450984,  0.3803922 ,  0.8352941 ,  0.75686276,\n",
       "         0.8039216 ,  0.654902  ,  0.60784316,  0.5686275 ,  0.77254903,\n",
       "         0.7019608 ,  0.7411765 ,  0.7254902 ,  0.7882353 ,  0.48235297,\n",
       "        -0.1607843 , -0.35686272, -0.654902  , -0.85882354, -1.        ,\n",
       "        -1.        , -1.        , -1.        ],\n",
       "       [-1.        ,  0.92941177,  0.81960785,  0.7254902 ,  0.654902  ,\n",
       "         0.73333335,  0.8352941 ,  0.73333335,  1.        ,  1.        ,\n",
       "         0.7490196 ,  0.6156863 ,  0.5137255 ,  0.92156863,  0.24705887,\n",
       "         0.5686275 ,  0.6392157 ,  0.6313726 ,  0.6784314 ,  0.6       ,\n",
       "         0.6313726 ,  0.75686276,  0.73333335,  0.75686276,  0.6313726 ,\n",
       "         0.4666667 , -0.5529412 , -1.        ],\n",
       "       [-1.        ,  0.7647059 ,  0.7882353 ,  0.7411765 ,  0.6392157 ,\n",
       "         0.6       ,  0.64705884,  0.49803925,  0.20784318,  0.47450984,\n",
       "         0.73333335,  0.79607844,  1.        ,  0.17647064, -0.372549  ,\n",
       "         0.88235295,  0.7254902 ,  0.60784316,  0.60784316,  0.60784316,\n",
       "         0.6784314 ,  0.654902  ,  0.654902  ,  0.73333335,  0.75686276,\n",
       "         0.7882353 ,  0.58431375, -0.9764706 ],\n",
       "       [-0.77254903,  0.79607844,  0.75686276,  0.7490196 ,  0.7490196 ,\n",
       "         0.7019608 ,  0.6862745 ,  0.73333335,  0.7176471 ,  0.3176471 ,\n",
       "        -0.08235294, -0.16862744, -0.42745095, -0.49019605,  0.8901961 ,\n",
       "         0.7019608 ,  0.6862745 ,  0.52156866,  0.7254902 ,  0.9529412 ,\n",
       "         0.8352941 ,  0.79607844,  0.79607844,  0.7411765 ,  0.64705884,\n",
       "         0.5529412 ,  0.827451  , -0.23137254],\n",
       "       [-0.47450978,  0.8039216 ,  0.73333335,  0.7254902 ,  0.7411765 ,\n",
       "         0.6392157 ,  0.6627451 ,  0.70980394,  0.7490196 ,  0.8745098 ,\n",
       "         0.92156863,  0.78039217,  0.5294118 ,  0.88235295,  0.67058825,\n",
       "         0.5529412 ,  0.6156863 ,  0.54509807,  0.45098042,  0.69411767,\n",
       "         0.7647059 ,  0.654902  ,  0.60784316,  0.5137255 ,  0.6       ,\n",
       "         0.6627451 ,  0.6       , -0.41176468],\n",
       "       [-0.09803921,  0.6156863 ,  0.60784316,  0.41960788,  0.34901965,\n",
       "         0.38823533,  0.41960788,  0.45882356,  0.6156863 ,  0.56078434,\n",
       "         0.69411767,  0.7647059 ,  0.8509804 ,  0.7254902 ,  0.73333335,\n",
       "         0.7176471 ,  0.6784314 ,  0.58431375,  0.5058824 ,  0.52156866,\n",
       "         0.4901961 ,  0.45098042,  0.54509807,  0.67058825,  0.52156866,\n",
       "         0.43529415,  0.5921569 , -0.62352943],\n",
       "       [-0.27843136,  0.64705884,  0.38823533,  0.30980396,  0.22352946,\n",
       "         0.3803922 ,  0.5058824 ,  0.5529412 ,  0.49803925,  0.5294118 ,\n",
       "         0.49803925,  0.52156866,  0.5372549 ,  0.5686275 ,  0.64705884,\n",
       "         0.654902  ,  0.62352943,  0.67058825,  0.64705884,  0.6       ,\n",
       "         0.5372549 ,  0.43529415,  0.3411765 ,  0.4039216 ,  0.5137255 ,\n",
       "         0.7176471 , -0.04313725, -1.        ],\n",
       "       [-1.        ,  0.33333337,  0.69411767,  0.5058824 ,  0.52156866,\n",
       "         0.47450984,  0.47450984,  0.654902  ,  0.64705884,  0.64705884,\n",
       "         0.6392157 ,  0.6       ,  0.5529412 ,  0.5137255 ,  0.47450984,\n",
       "         0.48235297,  0.47450984,  0.45098042,  0.41960788,  0.37254906,\n",
       "         0.34901965,  0.37254906,  0.49803925,  0.6627451 ,  0.48235297,\n",
       "        -0.41960782, -1.        , -1.        ],\n",
       "       [-1.        , -1.        , -0.54509807, -0.2235294 ,  0.3176471 ,\n",
       "         0.30196083,  0.3803922 ,  0.41960788,  0.427451  ,  0.427451  ,\n",
       "         0.4039216 ,  0.49803925,  0.5137255 ,  0.7254902 ,  0.73333335,\n",
       "         0.9137255 ,  0.90588236,  0.92941177,  0.8980392 ,  0.8745098 ,\n",
       "         0.85882354,  0.7411765 ,  0.5686275 , -0.4823529 , -1.        ,\n",
       "        -1.        , -1.        , -0.9843137 ],\n",
       "       [-1.        , -1.        , -1.        , -1.        , -1.        ,\n",
       "        -1.        , -1.        , -1.        , -1.        , -1.        ,\n",
       "        -1.        , -1.        , -1.        , -1.        , -1.        ,\n",
       "        -0.7254902 , -0.6784314 , -0.4352941 , -0.654902  , -0.52156866,\n",
       "        -0.6862745 , -1.        , -1.        , -1.        , -1.        ,\n",
       "        -1.        , -1.        , -1.        ],\n",
       "       [-1.        , -1.        , -1.        , -1.        , -1.        ,\n",
       "        -1.        , -1.        , -1.        , -1.        , -1.        ,\n",
       "        -1.        , -1.        , -1.        , -1.        , -1.        ,\n",
       "        -1.        , -1.        , -1.        , -1.        , -1.        ,\n",
       "        -1.        , -1.        , -1.        , -1.        , -1.        ,\n",
       "        -1.        , -1.        , -1.        ],\n",
       "       [-1.        , -1.        , -1.        , -1.        , -1.        ,\n",
       "        -1.        , -1.        , -1.        , -1.        , -1.        ,\n",
       "        -1.        , -1.        , -1.        , -1.        , -1.        ,\n",
       "        -1.        , -1.        , -1.        , -1.        , -1.        ,\n",
       "        -1.        , -1.        , -1.        , -1.        , -1.        ,\n",
       "        -1.        , -1.        , -1.        ]], dtype=float32)"
      ]
     },
     "execution_count": 10,
     "metadata": {},
     "output_type": "execute_result"
    }
   ],
   "source": [
    "torch_image.numpy()"
   ]
  },
  {
   "cell_type": "code",
   "execution_count": 11,
   "metadata": {},
   "outputs": [],
   "source": [
    "import os # kernel error 발생 시 추가\n",
    "os.environ['KMP_DUPLICATE_LIB_OK'] = 'True'"
   ]
  },
  {
   "cell_type": "code",
   "execution_count": 12,
   "metadata": {},
   "outputs": [
    {
     "data": {
      "image/png": "[encoded data removed]",
      "text/plain": [
       "<Figure size 640x480 with 1 Axes>"
      ]
     },
     "metadata": {},
     "output_type": "display_data"
    }
   ],
   "source": [
    "plt.imshow(torch_image.numpy(), 'gray')\n",
    "plt.show()"
   ]
  },
  {
   "cell_type": "code",
   "execution_count": null,
   "metadata": {},
   "outputs": [],
   "source": []
  }
 ],
 "metadata": {
  "kernelspec": {
   "display_name": "pt_study",
   "language": "python",
   "name": "python3"
  },
  "language_info": {
   "codemirror_mode": {
    "name": "ipython",
    "version": 3
   },
   "file_extension": ".py",
   "mimetype": "text/x-python",
   "name": "python",
   "nbconvert_exporter": "python",
   "pygments_lexer": "ipython3",
   "version": "3.12.2"
  }
 },
 "nbformat": 4,
 "nbformat_minor": 2
}
