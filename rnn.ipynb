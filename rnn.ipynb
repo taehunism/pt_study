{
 "cells": [
  {
   "cell_type": "code",
   "execution_count": 1,
   "metadata": {},
   "outputs": [],
   "source": [
    "from torchvision import datasets, transforms\n",
    "from torch.utils import data"
   ]
  },
  {
   "cell_type": "code",
   "execution_count": 2,
   "metadata": {},
   "outputs": [],
   "source": [
    "train_loader = data.DataLoader(\n",
    "    datasets.FashionMNIST('dataset/', train=True, download=True,\n",
    "                         transform=transforms.Compose([\n",
    "                             #증폭 추가\n",
    "                             transforms.RandomHorizontalFlip(),\n",
    "                             transforms.ToTensor(),\n",
    "                             transforms.Normalize(mean=(0.5,), std=(0.5,))\n",
    "                         ])\n",
    "                         ),\n",
    "    batch_size=32\n",
    ")\n",
    "                          \n"
   ]
  },
  {
   "cell_type": "code",
   "execution_count": 3,
   "metadata": {},
   "outputs": [],
   "source": [
    "test_loader = data.DataLoader(\n",
    "    datasets.FashionMNIST('dataset/', train=False, download=True,\n",
    "                         transform=transforms.Compose([\n",
    "                             #증폭 추가\n",
    "                             transforms.RandomHorizontalFlip(),\n",
    "                             transforms.ToTensor(),\n",
    "                             transforms.Normalize(mean=(0.5,), std=(0.5,))\n",
    "                         ])\n",
    "                         ),\n",
    "    batch_size=32\n",
    ")\n",
    "                "
   ]
  },
  {
   "cell_type": "code",
   "execution_count": 4,
   "metadata": {},
   "outputs": [
    {
     "data": {
      "text/plain": [
       "(1875, 313)"
      ]
     },
     "execution_count": 4,
     "metadata": {},
     "output_type": "execute_result"
    }
   ],
   "source": [
    "len(train_loader), len(test_loader) #배치사이즈 32여서 각 길이에 * 32 해주면 됨\n",
    "# 대충 6만개 1만개해서 7만개 -> 잘 했음"
   ]
  },
  {
   "cell_type": "code",
   "execution_count": 5,
   "metadata": {},
   "outputs": [
    {
     "data": {
      "text/plain": [
       "torch.Size([32, 1, 28, 28])"
      ]
     },
     "execution_count": 5,
     "metadata": {},
     "output_type": "execute_result"
    }
   ],
   "source": [
    "images, labels = next(iter(train_loader))\n",
    "images.shape #4개의 값 , batch_size, channel, height, width -> 넓이"
   ]
  },
  {
   "cell_type": "code",
   "execution_count": 6,
   "metadata": {},
   "outputs": [
    {
     "data": {
      "text/plain": [
       "torch.Size([32])"
      ]
     },
     "execution_count": 6,
     "metadata": {},
     "output_type": "execute_result"
    }
   ],
   "source": [
    "labels.shape"
   ]
  },
  {
   "cell_type": "code",
   "execution_count": 7,
   "metadata": {},
   "outputs": [
    {
     "data": {
      "text/plain": [
       "torch.Size([1, 28, 28])"
      ]
     },
     "execution_count": 7,
     "metadata": {},
     "output_type": "execute_result"
    }
   ],
   "source": [
    "images[0].shape"
   ]
  },
  {
   "cell_type": "code",
   "execution_count": 8,
   "metadata": {},
   "outputs": [],
   "source": [
    "import matplotlib.pyplot as plt\n",
    "import numpy as np"
   ]
  },
  {
   "cell_type": "code",
   "execution_count": 9,
   "metadata": {},
   "outputs": [
    {
     "data": {
      "text/plain": [
       "torch.Size([28, 28])"
      ]
     },
     "execution_count": 9,
     "metadata": {},
     "output_type": "execute_result"
    }
   ],
   "source": [
    "import torch\n",
    "torch_image = torch.squeeze(images[0]) #1을 제거 후 28,28 로 시각화를 해보기 위해 squeeze()함수 사용\n",
    "torch_image.shape"
   ]
  },
  {
   "cell_type": "code",
   "execution_count": 10,
   "metadata": {},
   "outputs": [
    {
     "data": {
      "text/plain": [
       "array([[-1.        , -1.        , -1.        , -1.        , -1.        ,\n",
       "        -1.        , -1.        , -1.        , -1.        , -1.        ,\n",
       "        -1.        , -1.        , -1.        , -1.        , -1.        ,\n",
       "        -1.        , -1.        , -1.        , -1.        , -1.        ,\n",
       "        -1.        , -1.        , -1.        , -1.        , -1.        ,\n",
       "        -1.        , -1.        , -1.        ],\n",
       "       [-1.        , -1.        , -1.        , -1.        , -1.        ,\n",
       "        -1.        , -1.        , -1.        , -1.        , -1.        ,\n",
       "        -1.        , -1.        , -1.        , -1.        , -1.        ,\n",
       "        -1.        , -1.        , -1.        , -1.        , -1.        ,\n",
       "        -1.        , -1.        , -1.        , -1.        , -1.        ,\n",
       "        -1.        , -1.        , -1.        ],\n",
       "       [-1.        , -1.        , -1.        , -1.        , -1.        ,\n",
       "        -1.        , -1.        , -1.        , -1.        , -1.        ,\n",
       "        -1.        , -1.        , -1.        , -1.        , -1.        ,\n",
       "        -1.        , -1.        , -1.        , -1.        , -1.        ,\n",
       "        -1.        , -1.        , -1.        , -1.        , -1.        ,\n",
       "        -1.        , -1.        , -1.        ],\n",
       "       [-1.        , -0.99215686, -0.99215686, -1.        , -1.        ,\n",
       "        -1.        , -1.        , -0.96862745, -0.99215686, -1.        ,\n",
       "        -1.        , -0.42745095, -0.8980392 , -1.        , -1.        ,\n",
       "        -0.99215686, -1.        , -1.        , -1.        , -1.        ,\n",
       "        -1.        , -1.        , -1.        , -1.        , -1.        ,\n",
       "        -1.        , -1.        , -1.        ],\n",
       "       [-0.9764706 , -1.        , -1.        , -0.96862745, -0.9764706 ,\n",
       "        -0.99215686, -1.        , -1.        , -1.        , -0.5764706 ,\n",
       "        -0.5137255 , -0.00392157,  0.06666672, -0.7176471 , -1.        ,\n",
       "        -0.9764706 , -1.        , -1.        , -1.        , -1.        ,\n",
       "        -1.        , -1.        , -1.        , -1.        , -1.        ,\n",
       "        -1.        , -1.        , -1.        ],\n",
       "       [-1.        , -0.92156863, -0.90588236, -1.        , -1.        ,\n",
       "        -1.        , -1.        , -0.81960785, -0.03529412,  0.12941182,\n",
       "         0.05098045,  0.3803922 ,  0.6       , -0.19999999, -1.        ,\n",
       "        -0.9529412 , -1.        , -1.        , -1.        , -1.        ,\n",
       "        -1.        , -1.        , -1.        , -1.        , -1.        ,\n",
       "        -1.        , -1.        , -1.        ],\n",
       "       [-0.88235295, -0.4352941 ,  0.0196079 , -0.3960784 , -0.81960785,\n",
       "        -0.4980392 , -0.14509803,  0.26274514,  0.22352946, -0.1607843 ,\n",
       "         0.39607847,  0.62352943,  0.8509804 ,  0.21568632, -1.        ,\n",
       "        -1.        , -1.        , -1.        , -1.        , -1.        ,\n",
       "        -1.        , -1.        , -1.        , -1.        , -1.        ,\n",
       "        -1.        , -1.        , -1.        ],\n",
       "       [-0.4823529 ,  0.34901965, -0.3098039 ,  0.10588241,  0.14509809,\n",
       "        -0.04313725, -0.05098039, -0.00392157,  0.27843142,  0.69411767,\n",
       "         0.69411767,  0.70980394,  0.7490196 ,  0.62352943, -0.4588235 ,\n",
       "        -1.        , -0.99215686, -1.        , -1.        , -1.        ,\n",
       "        -1.        , -1.        , -1.        , -1.        , -1.        ,\n",
       "        -1.        , -1.        , -1.        ],\n",
       "       [-1.        ,  0.79607844,  0.5372549 , -0.03529412, -0.00392157,\n",
       "         0.28627455,  0.67058825,  0.6862745 ,  0.7490196 ,  0.7490196 ,\n",
       "         0.79607844,  0.827451  ,  0.81960785,  0.81960785,  0.5686275 ,\n",
       "        -1.        , -0.99215686, -0.99215686, -0.99215686, -1.        ,\n",
       "        -1.        , -1.        , -1.        , -1.        , -1.        ,\n",
       "        -1.        , -1.        , -1.        ],\n",
       "       [-1.        ,  0.35686278,  0.92156863,  0.7490196 ,  0.73333335,\n",
       "         0.75686276,  0.7411765 ,  0.75686276,  0.78039217,  0.84313726,\n",
       "         0.7882353 ,  0.7490196 ,  0.69411767,  0.7647059 ,  0.43529415,\n",
       "        -1.        , -1.        , -1.        , -1.        , -1.        ,\n",
       "        -1.        , -1.        , -1.        , -1.        , -1.        ,\n",
       "        -1.        , -1.        , -1.        ],\n",
       "       [-1.        ,  0.58431375,  0.90588236,  0.7254902 ,  0.7490196 ,\n",
       "         0.67058825,  0.654902  ,  0.64705884,  0.6627451 ,  0.41176474,\n",
       "         0.5529412 ,  0.67058825,  0.70980394,  0.7882353 ,  0.5137255 ,\n",
       "        -1.        , -1.        , -1.        , -1.        , -1.        ,\n",
       "        -1.        , -1.        , -1.        , -1.        , -1.        ,\n",
       "        -1.        , -1.        , -1.        ],\n",
       "       [-0.5921569 ,  0.6392157 ,  0.54509807,  0.77254903,  0.6627451 ,\n",
       "         0.75686276,  0.70980394,  0.6313726 ,  0.78039217,  0.32549024,\n",
       "         0.5058824 ,  0.70980394,  0.6627451 ,  0.7254902 ,  0.7176471 ,\n",
       "        -0.90588236, -1.        , -0.9764706 , -0.99215686, -1.        ,\n",
       "        -1.        , -1.        , -1.        , -1.        , -1.        ,\n",
       "        -1.        , -1.        , -1.        ],\n",
       "       [-0.56078434,  0.30980396, -0.06666666,  0.92156863,  0.7254902 ,\n",
       "         0.7411765 ,  0.67058825,  0.6862745 ,  0.73333335,  0.5529412 ,\n",
       "         0.5921569 ,  0.70980394,  0.7254902 ,  0.7411765 ,  0.9137255 ,\n",
       "        -0.2235294 , -1.        , -0.9529412 , -1.        , -1.        ,\n",
       "        -1.        , -1.        , -1.        , -1.        , -1.        ,\n",
       "        -1.        , -1.        , -1.        ],\n",
       "       [-1.        , -0.27843136,  0.6392157 ,  0.7019608 ,  0.7019608 ,\n",
       "         0.8352941 ,  0.7490196 ,  0.70980394,  0.67058825,  0.81960785,\n",
       "         0.88235295,  0.7882353 ,  0.8039216 ,  0.7882353 ,  0.8509804 ,\n",
       "        -0.5686275 , -1.        , -1.        , -0.96862745, -1.        ,\n",
       "        -1.        , -1.        , -1.        , -1.        , -1.        ,\n",
       "        -1.        , -1.        , -1.        ],\n",
       "       [-1.        , -0.3960784 ,  1.        ,  0.70980394,  0.6862745 ,\n",
       "         0.79607844,  0.7490196 ,  0.69411767,  0.73333335,  0.7411765 ,\n",
       "         0.7176471 ,  0.7411765 ,  0.7490196 ,  0.7019608 ,  0.77254903,\n",
       "         0.85882354, -1.        , -1.        , -1.        , -1.        ,\n",
       "        -1.        , -0.9843137 , -0.94509804, -0.9529412 , -0.96862745,\n",
       "        -0.99215686, -1.        , -1.        ],\n",
       "       [-1.        ,  0.24705887,  0.9137255 ,  0.75686276,  0.6862745 ,\n",
       "         0.7176471 ,  0.7490196 ,  0.75686276,  0.70980394,  0.654902  ,\n",
       "         0.6313726 ,  0.70980394,  0.73333335,  0.67058825,  0.62352943,\n",
       "         0.7882353 ,  0.6       ,  0.13725495, -0.5137255 , -1.        ,\n",
       "        -1.        , -1.        , -1.        , -1.        , -1.        ,\n",
       "        -1.        , -0.9764706 , -1.        ],\n",
       "       [-1.        ,  0.6862745 ,  0.8666667 ,  0.827451  ,  0.94509804,\n",
       "         0.9607843 ,  0.47450984,  0.3803922 ,  0.8352941 ,  0.75686276,\n",
       "         0.8039216 ,  0.654902  ,  0.60784316,  0.5686275 ,  0.77254903,\n",
       "         0.7019608 ,  0.7411765 ,  0.7254902 ,  0.7882353 ,  0.48235297,\n",
       "        -0.1607843 , -0.35686272, -0.654902  , -0.85882354, -1.        ,\n",
       "        -1.        , -1.        , -1.        ],\n",
       "       [-1.        ,  0.92941177,  0.81960785,  0.7254902 ,  0.654902  ,\n",
       "         0.73333335,  0.8352941 ,  0.73333335,  1.        ,  1.        ,\n",
       "         0.7490196 ,  0.6156863 ,  0.5137255 ,  0.92156863,  0.24705887,\n",
       "         0.5686275 ,  0.6392157 ,  0.6313726 ,  0.6784314 ,  0.6       ,\n",
       "         0.6313726 ,  0.75686276,  0.73333335,  0.75686276,  0.6313726 ,\n",
       "         0.4666667 , -0.5529412 , -1.        ],\n",
       "       [-1.        ,  0.7647059 ,  0.7882353 ,  0.7411765 ,  0.6392157 ,\n",
       "         0.6       ,  0.64705884,  0.49803925,  0.20784318,  0.47450984,\n",
       "         0.73333335,  0.79607844,  1.        ,  0.17647064, -0.372549  ,\n",
       "         0.88235295,  0.7254902 ,  0.60784316,  0.60784316,  0.60784316,\n",
       "         0.6784314 ,  0.654902  ,  0.654902  ,  0.73333335,  0.75686276,\n",
       "         0.7882353 ,  0.58431375, -0.9764706 ],\n",
       "       [-0.77254903,  0.79607844,  0.75686276,  0.7490196 ,  0.7490196 ,\n",
       "         0.7019608 ,  0.6862745 ,  0.73333335,  0.7176471 ,  0.3176471 ,\n",
       "        -0.08235294, -0.16862744, -0.42745095, -0.49019605,  0.8901961 ,\n",
       "         0.7019608 ,  0.6862745 ,  0.52156866,  0.7254902 ,  0.9529412 ,\n",
       "         0.8352941 ,  0.79607844,  0.79607844,  0.7411765 ,  0.64705884,\n",
       "         0.5529412 ,  0.827451  , -0.23137254],\n",
       "       [-0.47450978,  0.8039216 ,  0.73333335,  0.7254902 ,  0.7411765 ,\n",
       "         0.6392157 ,  0.6627451 ,  0.70980394,  0.7490196 ,  0.8745098 ,\n",
       "         0.92156863,  0.78039217,  0.5294118 ,  0.88235295,  0.67058825,\n",
       "         0.5529412 ,  0.6156863 ,  0.54509807,  0.45098042,  0.69411767,\n",
       "         0.7647059 ,  0.654902  ,  0.60784316,  0.5137255 ,  0.6       ,\n",
       "         0.6627451 ,  0.6       , -0.41176468],\n",
       "       [-0.09803921,  0.6156863 ,  0.60784316,  0.41960788,  0.34901965,\n",
       "         0.38823533,  0.41960788,  0.45882356,  0.6156863 ,  0.56078434,\n",
       "         0.69411767,  0.7647059 ,  0.8509804 ,  0.7254902 ,  0.73333335,\n",
       "         0.7176471 ,  0.6784314 ,  0.58431375,  0.5058824 ,  0.52156866,\n",
       "         0.4901961 ,  0.45098042,  0.54509807,  0.67058825,  0.52156866,\n",
       "         0.43529415,  0.5921569 , -0.62352943],\n",
       "       [-0.27843136,  0.64705884,  0.38823533,  0.30980396,  0.22352946,\n",
       "         0.3803922 ,  0.5058824 ,  0.5529412 ,  0.49803925,  0.5294118 ,\n",
       "         0.49803925,  0.52156866,  0.5372549 ,  0.5686275 ,  0.64705884,\n",
       "         0.654902  ,  0.62352943,  0.67058825,  0.64705884,  0.6       ,\n",
       "         0.5372549 ,  0.43529415,  0.3411765 ,  0.4039216 ,  0.5137255 ,\n",
       "         0.7176471 , -0.04313725, -1.        ],\n",
       "       [-1.        ,  0.33333337,  0.69411767,  0.5058824 ,  0.52156866,\n",
       "         0.47450984,  0.47450984,  0.654902  ,  0.64705884,  0.64705884,\n",
       "         0.6392157 ,  0.6       ,  0.5529412 ,  0.5137255 ,  0.47450984,\n",
       "         0.48235297,  0.47450984,  0.45098042,  0.41960788,  0.37254906,\n",
       "         0.34901965,  0.37254906,  0.49803925,  0.6627451 ,  0.48235297,\n",
       "        -0.41960782, -1.        , -1.        ],\n",
       "       [-1.        , -1.        , -0.54509807, -0.2235294 ,  0.3176471 ,\n",
       "         0.30196083,  0.3803922 ,  0.41960788,  0.427451  ,  0.427451  ,\n",
       "         0.4039216 ,  0.49803925,  0.5137255 ,  0.7254902 ,  0.73333335,\n",
       "         0.9137255 ,  0.90588236,  0.92941177,  0.8980392 ,  0.8745098 ,\n",
       "         0.85882354,  0.7411765 ,  0.5686275 , -0.4823529 , -1.        ,\n",
       "        -1.        , -1.        , -0.9843137 ],\n",
       "       [-1.        , -1.        , -1.        , -1.        , -1.        ,\n",
       "        -1.        , -1.        , -1.        , -1.        , -1.        ,\n",
       "        -1.        , -1.        , -1.        , -1.        , -1.        ,\n",
       "        -0.7254902 , -0.6784314 , -0.4352941 , -0.654902  , -0.52156866,\n",
       "        -0.6862745 , -1.        , -1.        , -1.        , -1.        ,\n",
       "        -1.        , -1.        , -1.        ],\n",
       "       [-1.        , -1.        , -1.        , -1.        , -1.        ,\n",
       "        -1.        , -1.        , -1.        , -1.        , -1.        ,\n",
       "        -1.        , -1.        , -1.        , -1.        , -1.        ,\n",
       "        -1.        , -1.        , -1.        , -1.        , -1.        ,\n",
       "        -1.        , -1.        , -1.        , -1.        , -1.        ,\n",
       "        -1.        , -1.        , -1.        ],\n",
       "       [-1.        , -1.        , -1.        , -1.        , -1.        ,\n",
       "        -1.        , -1.        , -1.        , -1.        , -1.        ,\n",
       "        -1.        , -1.        , -1.        , -1.        , -1.        ,\n",
       "        -1.        , -1.        , -1.        , -1.        , -1.        ,\n",
       "        -1.        , -1.        , -1.        , -1.        , -1.        ,\n",
       "        -1.        , -1.        , -1.        ]], dtype=float32)"
      ]
     },
     "execution_count": 10,
     "metadata": {},
     "output_type": "execute_result"
    }
   ],
   "source": [
    "torch_image.numpy()"
   ]
  },
  {
   "cell_type": "code",
   "execution_count": 11,
   "metadata": {},
   "outputs": [],
   "source": [
    "import os # kernel error 발생 시 추가\n",
    "os.environ['KMP_DUPLICATE_LIB_OK'] = 'True'"
   ]
  },
  {
   "cell_type": "code",
   "execution_count": 12,
   "metadata": {},
   "outputs": [
    {
     "data": {
      "image/png": "[encoded data removed]",
      "text/plain": [
       "<Figure size 640x480 with 1 Axes>"
      ]
     },
     "metadata": {},
     "output_type": "display_data"
    }
   ],
   "source": [
    "plt.imshow(torch_image.numpy(), 'gray')\n",
    "plt.show()"
   ]
  },
  {
   "cell_type": "code",
   "execution_count": null,
   "metadata": {},
   "outputs": [],
   "source": [
    "#순차 데이터 개념\n",
    "#RNN 구조 recurrent neural network (순환 신경망))\n",
    "#뉴런의 출력이 순환되는 신경망\n",
    "#LSTM 구조 :RNN의 단점을 보완함 기억이 오래가게..\n",
    "#GRU 구조 :LSTM을 간소화한 모델, 우리나라에서 개발됨 GRU는 출력이 1개"
   ]
  },
  {
   "cell_type": "code",
   "execution_count": 3,
   "metadata": {},
   "outputs": [],
   "source": [
    "#GRU 구현 ! -> LSTM 간소화 모델!\n",
    "import torchtext\n"
   ]
  },
  {
   "cell_type": "code",
   "execution_count": 9,
   "metadata": {},
   "outputs": [
    {
     "name": "stderr",
     "output_type": "stream",
     "text": [
      "/Users/kimtaehun/anaconda3/envs/pt_study/lib/python3.12/site-packages/torchtext/datasets/__init__.py:4: UserWarning: \n",
      "/!\\ IMPORTANT WARNING ABOUT TORCHTEXT STATUS /!\\ \n",
      "Torchtext is deprecated and the last released version will be 0.18 (this one). You can silence this warning by calling the following at the beginnign of your scripts: `import torchtext; torchtext.disable_torchtext_deprecation_warning()`\n",
      "  warnings.warn(torchtext._TORCHTEXT_DEPRECATION_MSG)\n",
      "/Users/kimtaehun/anaconda3/envs/pt_study/lib/python3.12/site-packages/torchtext/data/__init__.py:4: UserWarning: \n",
      "/!\\ IMPORTANT WARNING ABOUT TORCHTEXT STATUS /!\\ \n",
      "Torchtext is deprecated and the last released version will be 0.18 (this one). You can silence this warning by calling the following at the beginnign of your scripts: `import torchtext; torchtext.disable_torchtext_deprecation_warning()`\n",
      "  warnings.warn(torchtext._TORCHTEXT_DEPRECATION_MSG)\n",
      "/Users/kimtaehun/anaconda3/envs/pt_study/lib/python3.12/site-packages/torchtext/vocab/__init__.py:4: UserWarning: \n",
      "/!\\ IMPORTANT WARNING ABOUT TORCHTEXT STATUS /!\\ \n",
      "Torchtext is deprecated and the last released version will be 0.18 (this one). You can silence this warning by calling the following at the beginnign of your scripts: `import torchtext; torchtext.disable_torchtext_deprecation_warning()`\n",
      "  warnings.warn(torchtext._TORCHTEXT_DEPRECATION_MSG)\n",
      "/Users/kimtaehun/anaconda3/envs/pt_study/lib/python3.12/site-packages/torchtext/utils.py:4: UserWarning: \n",
      "/!\\ IMPORTANT WARNING ABOUT TORCHTEXT STATUS /!\\ \n",
      "Torchtext is deprecated and the last released version will be 0.18 (this one). You can silence this warning by calling the following at the beginnign of your scripts: `import torchtext; torchtext.disable_torchtext_deprecation_warning()`\n",
      "  warnings.warn(torchtext._TORCHTEXT_DEPRECATION_MSG)\n"
     ]
    }
   ],
   "source": [
    "import torch\n",
    "import torch.nn as nn\n",
    "import torch.optim as optim\n",
    "import torch.nn.functional as F\n",
    "from torchtext.datasets import IMDB\n",
    "from torchtext.data.utils import get_tokenizer\n",
    "from torchtext.vocab import build_vocab_from_iterator\n",
    "from torch.utils.data import DataLoader\n"
   ]
  },
  {
   "cell_type": "code",
   "execution_count": 10,
   "metadata": {},
   "outputs": [
    {
     "ename": "ModuleNotFoundError",
     "evalue": "Package `torchdata` not found. Please install following instructions at https://github.com/pytorch/data",
     "output_type": "error",
     "traceback": [
      "\u001b[0;31m---------------------------------------------------------------------------\u001b[0m",
      "\u001b[0;31mModuleNotFoundError\u001b[0m                       Traceback (most recent call last)",
      "Cell \u001b[0;32mIn[10], line 7\u001b[0m\n\u001b[1;32m      4\u001b[0m     \u001b[38;5;28;01mfor\u001b[39;00m _, text \u001b[38;5;129;01min\u001b[39;00m data_iter:\n\u001b[1;32m      5\u001b[0m         \u001b[38;5;28;01myield\u001b[39;00m tokenizer(text)\n\u001b[0;32m----> 7\u001b[0m train_iter, test_iter \u001b[38;5;241m=\u001b[39m IMDB(split\u001b[38;5;241m=\u001b[39m(\u001b[38;5;124m'\u001b[39m\u001b[38;5;124mtrain\u001b[39m\u001b[38;5;124m'\u001b[39m, \u001b[38;5;124m'\u001b[39m\u001b[38;5;124mtest\u001b[39m\u001b[38;5;124m'\u001b[39m))\n\u001b[1;32m      8\u001b[0m vocab \u001b[38;5;241m=\u001b[39m build_vocab_from_iterator(yield_tokens(train_iter), specials\u001b[38;5;241m=\u001b[39m[\u001b[38;5;124m\"\u001b[39m\u001b[38;5;124m<unk>\u001b[39m\u001b[38;5;124m\"\u001b[39m])\n\u001b[1;32m      9\u001b[0m vocab\u001b[38;5;241m.\u001b[39mset_default_index(vocab[\u001b[38;5;124m\"\u001b[39m\u001b[38;5;124m<unk>\u001b[39m\u001b[38;5;124m\"\u001b[39m])\n",
      "File \u001b[0;32m~/anaconda3/envs/pt_study/lib/python3.12/site-packages/torchtext/data/datasets_utils.py:193\u001b[0m, in \u001b[0;36m_create_dataset_directory.<locals>.decorator.<locals>.wrapper\u001b[0;34m(root, *args, **kwargs)\u001b[0m\n\u001b[1;32m    191\u001b[0m \u001b[38;5;28;01mif\u001b[39;00m \u001b[38;5;129;01mnot\u001b[39;00m os\u001b[38;5;241m.\u001b[39mpath\u001b[38;5;241m.\u001b[39mexists(new_root):\n\u001b[1;32m    192\u001b[0m     os\u001b[38;5;241m.\u001b[39mmakedirs(new_root, exist_ok\u001b[38;5;241m=\u001b[39m\u001b[38;5;28;01mTrue\u001b[39;00m)\n\u001b[0;32m--> 193\u001b[0m \u001b[38;5;28;01mreturn\u001b[39;00m fn(root\u001b[38;5;241m=\u001b[39mnew_root, \u001b[38;5;241m*\u001b[39margs, \u001b[38;5;241m*\u001b[39m\u001b[38;5;241m*\u001b[39mkwargs)\n",
      "File \u001b[0;32m~/anaconda3/envs/pt_study/lib/python3.12/site-packages/torchtext/data/datasets_utils.py:155\u001b[0m, in \u001b[0;36m_wrap_split_argument_with_fn.<locals>.new_fn\u001b[0;34m(root, split, **kwargs)\u001b[0m\n\u001b[1;32m    153\u001b[0m result \u001b[38;5;241m=\u001b[39m []\n\u001b[1;32m    154\u001b[0m \u001b[38;5;28;01mfor\u001b[39;00m item \u001b[38;5;129;01min\u001b[39;00m _check_default_set(split, splits, fn\u001b[38;5;241m.\u001b[39m\u001b[38;5;18m__name__\u001b[39m):\n\u001b[0;32m--> 155\u001b[0m     result\u001b[38;5;241m.\u001b[39mappend(fn(root, item, \u001b[38;5;241m*\u001b[39m\u001b[38;5;241m*\u001b[39mkwargs))\n\u001b[1;32m    156\u001b[0m \u001b[38;5;28;01mreturn\u001b[39;00m _wrap_datasets(\u001b[38;5;28mtuple\u001b[39m(result), split)\n",
      "File \u001b[0;32m~/anaconda3/envs/pt_study/lib/python3.12/site-packages/torchtext/datasets/imdb.py:87\u001b[0m, in \u001b[0;36mIMDB\u001b[0;34m(root, split)\u001b[0m\n\u001b[1;32m     64\u001b[0m \u001b[38;5;250m\u001b[39m\u001b[38;5;124;03m\"\"\"IMDB Dataset\u001b[39;00m\n\u001b[1;32m     65\u001b[0m \n\u001b[1;32m     66\u001b[0m \u001b[38;5;124;03m.. warning::\u001b[39;00m\n\u001b[0;32m   (...)\u001b[0m\n\u001b[1;32m     84\u001b[0m \u001b[38;5;124;03m:rtype: (int, str)\u001b[39;00m\n\u001b[1;32m     85\u001b[0m \u001b[38;5;124;03m\"\"\"\u001b[39;00m\n\u001b[1;32m     86\u001b[0m \u001b[38;5;28;01mif\u001b[39;00m \u001b[38;5;129;01mnot\u001b[39;00m is_module_available(\u001b[38;5;124m\"\u001b[39m\u001b[38;5;124mtorchdata\u001b[39m\u001b[38;5;124m\"\u001b[39m):\n\u001b[0;32m---> 87\u001b[0m     \u001b[38;5;28;01mraise\u001b[39;00m \u001b[38;5;167;01mModuleNotFoundError\u001b[39;00m(\n\u001b[1;32m     88\u001b[0m         \u001b[38;5;124m\"\u001b[39m\u001b[38;5;124mPackage `torchdata` not found. Please install following instructions at https://github.com/pytorch/data\u001b[39m\u001b[38;5;124m\"\u001b[39m\n\u001b[1;32m     89\u001b[0m     )\n\u001b[1;32m     90\u001b[0m \u001b[38;5;28;01mfrom\u001b[39;00m \u001b[38;5;21;01mtorchdata\u001b[39;00m\u001b[38;5;21;01m.\u001b[39;00m\u001b[38;5;21;01mdatapipes\u001b[39;00m\u001b[38;5;21;01m.\u001b[39;00m\u001b[38;5;21;01miter\u001b[39;00m \u001b[38;5;28;01mimport\u001b[39;00m FileOpener, GDriveReader, HttpReader, IterableWrapper  \u001b[38;5;66;03m# noqa\u001b[39;00m\n\u001b[1;32m     92\u001b[0m url_dp \u001b[38;5;241m=\u001b[39m IterableWrapper([URL])\n",
      "\u001b[0;31mModuleNotFoundError\u001b[0m: Package `torchdata` not found. Please install following instructions at https://github.com/pytorch/data"
     ]
    }
   ],
   "source": [
    "def train(mode, optimizer, train_iter):\n",
    "    model.train()\n",
    "    for i, batch in enumerate"
   ]
  },
  {
   "cell_type": "code",
   "execution_count": null,
   "metadata": {},
   "outputs": [],
   "source": []
  }
 ],
 "metadata": {
  "kernelspec": {
   "display_name": "pt_study",
   "language": "python",
   "name": "python3"
  },
  "language_info": {
   "codemirror_mode": {
    "name": "ipython",
    "version": 3
   },
   "file_extension": ".py",
   "mimetype": "text/x-python",
   "name": "python",
   "nbconvert_exporter": "python",
   "pygments_lexer": "ipython3",
   "version": "3.12.2"
  }
 },
 "nbformat": 4,
 "nbformat_minor": 2
}
