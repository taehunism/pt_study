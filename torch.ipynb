{
 "cells": [
  {
   "cell_type": "code",
   "execution_count": 2,
   "id": "0a3f1edc-cf36-4ec8-b913-ae79c0884a8d",
   "metadata": {},
   "outputs": [],
   "source": [
    "from torchvision import datasets, transforms\n",
    "from torch.utils import data"
   ]
  },
  {
   "cell_type": "code",
   "execution_count": 9,
   "id": "5002a967-3784-424e-bed8-eba07ad70331",
   "metadata": {},
   "outputs": [],
   "source": [
    "train_loader = data.DataLoader(\n",
    "    datasets.FashionMNIST('dataset/', train=True, download=True,\n",
    "                         transform=transforms.Compose([\n",
    "                             transforms.ToTensor(),\n",
    "                             transforms.Normalize(mean=(0.5,), std=(0.5,))\n",
    "                         ])\n",
    "                         ),\n",
    "    batch_size=32\n",
    ")\n",
    "                          \n"
   ]
  },
  {
   "cell_type": "code",
   "execution_count": 10,
   "id": "e19f6753-e3cc-4b6c-872b-56838c0af617",
   "metadata": {},
   "outputs": [],
   "source": [
    "test_loader = data.DataLoader(\n",
    "    datasets.FashionMNIST('dataset/', train=False, download=True,\n",
    "                         transform=transforms.Compose([\n",
    "                             transforms.ToTensor(),\n",
    "                             transforms.Normalize(mean=(0.5,), std=(0.5,))\n",
    "                         ])\n",
    "                         ),\n",
    "    batch_size=32\n",
    ")\n",
    "                "
   ]
  },
  {
   "cell_type": "code",
   "execution_count": 12,
   "id": "828b3ecf-e943-4cc7-99a2-387da919d5d7",
   "metadata": {},
   "outputs": [
    {
     "data": {
      "text/plain": [
       "(1875, 313)"
      ]
     },
     "execution_count": 12,
     "metadata": {},
     "output_type": "execute_result"
    }
   ],
   "source": [
    "len(train_loader), len(test_loader) #배치사이즈 32여서 각 길이에 * 32 해주면 됨\n",
    "# 대충 6만개 1만개해서 7만개 -> 잘 했음"
   ]
  },
  {
   "cell_type": "code",
   "execution_count": 16,
   "id": "8a7e9cf0-5333-4e87-bb55-57db8cf2be06",
   "metadata": {},
   "outputs": [
    {
     "data": {
      "text/plain": [
       "torch.Size([32, 1, 28, 28])"
      ]
     },
     "execution_count": 16,
     "metadata": {},
     "output_type": "execute_result"
    }
   ],
   "source": [
    "images, labels = next(iter(train_loader))\n",
    "images.shape #4개의 값 , batch_size, channel, height, width -> 넓이"
   ]
  },
  {
   "cell_type": "code",
   "execution_count": 17,
   "id": "91688282-798f-46d8-83a1-4b1a6f38c028",
   "metadata": {},
   "outputs": [
    {
     "data": {
      "text/plain": [
       "torch.Size([32])"
      ]
     },
     "execution_count": 17,
     "metadata": {},
     "output_type": "execute_result"
    }
   ],
   "source": [
    "labels.shape"
   ]
  },
  {
   "cell_type": "code",
   "execution_count": 18,
   "id": "223b9a3b-ad60-4239-9ffa-0d1c25687f5e",
   "metadata": {},
   "outputs": [
    {
     "data": {
      "text/plain": [
       "torch.Size([1, 28, 28])"
      ]
     },
     "execution_count": 18,
     "metadata": {},
     "output_type": "execute_result"
    }
   ],
   "source": [
    "images[0].shape"
   ]
  },
  {
   "cell_type": "code",
   "execution_count": 19,
   "id": "7eb5f564-3275-4d90-b094-ae58a478783f",
   "metadata": {},
   "outputs": [],
   "source": [
    "import matplotlib.pyplot as plt\n",
    "import numpy as np"
   ]
  },
  {
   "cell_type": "code",
   "execution_count": 21,
   "id": "0a78f906-f6bb-4367-90a1-118f68712959",
   "metadata": {},
   "outputs": [
    {
     "data": {
      "text/plain": [
       "torch.Size([28, 28])"
      ]
     },
     "execution_count": 21,
     "metadata": {},
     "output_type": "execute_result"
    }
   ],
   "source": [
    "import torch\n",
    "torch_image = torch.squeeze(images[0]) #1을 제거 후 28,28 로 시각화를 해보기 위해 squeeze()함수 사용\n",
    "torch_image.shape"
   ]
  },
  {
   "cell_type": "code",
   "execution_count": 22,
   "id": "2233116d-e66c-46d6-84d0-73d34548a0a8",
   "metadata": {},
   "outputs": [
    {
     "data": {
      "text/plain": [
       "array([[-1.        , -1.        , -1.        , -1.        , -1.        ,\n",
       "        -1.        , -1.        , -1.        , -1.        , -1.        ,\n",
       "        -1.        , -1.        , -1.        , -1.        , -1.        ,\n",
       "        -1.        , -1.        , -1.        , -1.        , -1.        ,\n",
       "        -1.        , -1.        , -1.        , -1.        , -1.        ,\n",
       "        -1.        , -1.        , -1.        ],\n",
       "       [-1.        , -1.        , -1.        , -1.        , -1.        ,\n",
       "        -1.        , -1.        , -1.        , -1.        , -1.        ,\n",
       "        -1.        , -1.        , -1.        , -1.        , -1.        ,\n",
       "        -1.        , -1.        , -1.        , -1.        , -1.        ,\n",
       "        -1.        , -1.        , -1.        , -1.        , -1.        ,\n",
       "        -1.        , -1.        , -1.        ],\n",
       "       [-1.        , -1.        , -1.        , -1.        , -1.        ,\n",
       "        -1.        , -1.        , -1.        , -1.        , -1.        ,\n",
       "        -1.        , -1.        , -1.        , -1.        , -1.        ,\n",
       "        -1.        , -1.        , -1.        , -1.        , -1.        ,\n",
       "        -1.        , -1.        , -1.        , -1.        , -1.        ,\n",
       "        -1.        , -1.        , -1.        ],\n",
       "       [-1.        , -1.        , -1.        , -1.        , -1.        ,\n",
       "        -1.        , -1.        , -1.        , -1.        , -1.        ,\n",
       "        -1.        , -1.        , -0.99215686, -1.        , -1.        ,\n",
       "        -0.8980392 , -0.42745095, -1.        , -1.        , -0.99215686,\n",
       "        -0.96862745, -1.        , -1.        , -1.        , -1.        ,\n",
       "        -0.99215686, -0.99215686, -1.        ],\n",
       "       [-1.        , -1.        , -1.        , -1.        , -1.        ,\n",
       "        -1.        , -1.        , -1.        , -1.        , -1.        ,\n",
       "        -1.        , -1.        , -0.9764706 , -1.        , -0.7176471 ,\n",
       "         0.06666672, -0.00392157, -0.5137255 , -0.5764706 , -1.        ,\n",
       "        -1.        , -1.        , -0.99215686, -0.9764706 , -0.96862745,\n",
       "        -1.        , -1.        , -0.9764706 ],\n",
       "       [-1.        , -1.        , -1.        , -1.        , -1.        ,\n",
       "        -1.        , -1.        , -1.        , -1.        , -1.        ,\n",
       "        -1.        , -1.        , -0.9529412 , -1.        , -0.19999999,\n",
       "         0.6       ,  0.3803922 ,  0.05098045,  0.12941182, -0.03529412,\n",
       "        -0.81960785, -1.        , -1.        , -1.        , -1.        ,\n",
       "        -0.90588236, -0.92156863, -1.        ],\n",
       "       [-1.        , -1.        , -1.        , -1.        , -1.        ,\n",
       "        -1.        , -1.        , -1.        , -1.        , -1.        ,\n",
       "        -1.        , -1.        , -1.        , -1.        ,  0.21568632,\n",
       "         0.8509804 ,  0.62352943,  0.39607847, -0.1607843 ,  0.22352946,\n",
       "         0.26274514, -0.14509803, -0.4980392 , -0.81960785, -0.3960784 ,\n",
       "         0.0196079 , -0.4352941 , -0.88235295],\n",
       "       [-1.        , -1.        , -1.        , -1.        , -1.        ,\n",
       "        -1.        , -1.        , -1.        , -1.        , -1.        ,\n",
       "        -1.        , -0.99215686, -1.        , -0.4588235 ,  0.62352943,\n",
       "         0.7490196 ,  0.70980394,  0.69411767,  0.69411767,  0.27843142,\n",
       "        -0.00392157, -0.05098039, -0.04313725,  0.14509809,  0.10588241,\n",
       "        -0.3098039 ,  0.34901965, -0.4823529 ],\n",
       "       [-1.        , -1.        , -1.        , -1.        , -1.        ,\n",
       "        -1.        , -1.        , -1.        , -1.        , -0.99215686,\n",
       "        -0.99215686, -0.99215686, -1.        ,  0.5686275 ,  0.81960785,\n",
       "         0.81960785,  0.827451  ,  0.79607844,  0.7490196 ,  0.7490196 ,\n",
       "         0.6862745 ,  0.67058825,  0.28627455, -0.00392157, -0.03529412,\n",
       "         0.5372549 ,  0.79607844, -1.        ],\n",
       "       [-1.        , -1.        , -1.        , -1.        , -1.        ,\n",
       "        -1.        , -1.        , -1.        , -1.        , -1.        ,\n",
       "        -1.        , -1.        , -1.        ,  0.43529415,  0.7647059 ,\n",
       "         0.69411767,  0.7490196 ,  0.7882353 ,  0.84313726,  0.78039217,\n",
       "         0.75686276,  0.7411765 ,  0.75686276,  0.73333335,  0.7490196 ,\n",
       "         0.92156863,  0.35686278, -1.        ],\n",
       "       [-1.        , -1.        , -1.        , -1.        , -1.        ,\n",
       "        -1.        , -1.        , -1.        , -1.        , -1.        ,\n",
       "        -1.        , -1.        , -1.        ,  0.5137255 ,  0.7882353 ,\n",
       "         0.70980394,  0.67058825,  0.5529412 ,  0.41176474,  0.6627451 ,\n",
       "         0.64705884,  0.654902  ,  0.67058825,  0.7490196 ,  0.7254902 ,\n",
       "         0.90588236,  0.58431375, -1.        ],\n",
       "       [-1.        , -1.        , -1.        , -1.        , -1.        ,\n",
       "        -1.        , -1.        , -1.        , -1.        , -0.99215686,\n",
       "        -0.9764706 , -1.        , -0.90588236,  0.7176471 ,  0.7254902 ,\n",
       "         0.6627451 ,  0.70980394,  0.5058824 ,  0.32549024,  0.78039217,\n",
       "         0.6313726 ,  0.70980394,  0.75686276,  0.6627451 ,  0.77254903,\n",
       "         0.54509807,  0.6392157 , -0.5921569 ],\n",
       "       [-1.        , -1.        , -1.        , -1.        , -1.        ,\n",
       "        -1.        , -1.        , -1.        , -1.        , -1.        ,\n",
       "        -0.9529412 , -1.        , -0.2235294 ,  0.9137255 ,  0.7411765 ,\n",
       "         0.7254902 ,  0.70980394,  0.5921569 ,  0.5529412 ,  0.73333335,\n",
       "         0.6862745 ,  0.67058825,  0.7411765 ,  0.7254902 ,  0.92156863,\n",
       "        -0.06666666,  0.30980396, -0.56078434],\n",
       "       [-1.        , -1.        , -1.        , -1.        , -1.        ,\n",
       "        -1.        , -1.        , -1.        , -1.        , -0.96862745,\n",
       "        -1.        , -1.        , -0.5686275 ,  0.8509804 ,  0.7882353 ,\n",
       "         0.8039216 ,  0.7882353 ,  0.88235295,  0.81960785,  0.67058825,\n",
       "         0.70980394,  0.7490196 ,  0.8352941 ,  0.7019608 ,  0.7019608 ,\n",
       "         0.6392157 , -0.27843136, -1.        ],\n",
       "       [-1.        , -1.        , -0.99215686, -0.96862745, -0.9529412 ,\n",
       "        -0.94509804, -0.9843137 , -1.        , -1.        , -1.        ,\n",
       "        -1.        , -1.        ,  0.85882354,  0.77254903,  0.7019608 ,\n",
       "         0.7490196 ,  0.7411765 ,  0.7176471 ,  0.7411765 ,  0.73333335,\n",
       "         0.69411767,  0.7490196 ,  0.79607844,  0.6862745 ,  0.70980394,\n",
       "         1.        , -0.3960784 , -1.        ],\n",
       "       [-1.        , -0.9764706 , -1.        , -1.        , -1.        ,\n",
       "        -1.        , -1.        , -1.        , -1.        , -0.5137255 ,\n",
       "         0.13725495,  0.6       ,  0.7882353 ,  0.62352943,  0.67058825,\n",
       "         0.73333335,  0.70980394,  0.6313726 ,  0.654902  ,  0.70980394,\n",
       "         0.75686276,  0.7490196 ,  0.7176471 ,  0.6862745 ,  0.75686276,\n",
       "         0.9137255 ,  0.24705887, -1.        ],\n",
       "       [-1.        , -1.        , -1.        , -1.        , -0.85882354,\n",
       "        -0.654902  , -0.35686272, -0.1607843 ,  0.48235297,  0.7882353 ,\n",
       "         0.7254902 ,  0.7411765 ,  0.7019608 ,  0.77254903,  0.5686275 ,\n",
       "         0.60784316,  0.654902  ,  0.8039216 ,  0.75686276,  0.8352941 ,\n",
       "         0.3803922 ,  0.47450984,  0.9607843 ,  0.94509804,  0.827451  ,\n",
       "         0.8666667 ,  0.6862745 , -1.        ],\n",
       "       [-1.        , -0.5529412 ,  0.4666667 ,  0.6313726 ,  0.75686276,\n",
       "         0.73333335,  0.75686276,  0.6313726 ,  0.6       ,  0.6784314 ,\n",
       "         0.6313726 ,  0.6392157 ,  0.5686275 ,  0.24705887,  0.92156863,\n",
       "         0.5137255 ,  0.6156863 ,  0.7490196 ,  1.        ,  1.        ,\n",
       "         0.73333335,  0.8352941 ,  0.73333335,  0.654902  ,  0.7254902 ,\n",
       "         0.81960785,  0.92941177, -1.        ],\n",
       "       [-0.9764706 ,  0.58431375,  0.7882353 ,  0.75686276,  0.73333335,\n",
       "         0.654902  ,  0.654902  ,  0.6784314 ,  0.60784316,  0.60784316,\n",
       "         0.60784316,  0.7254902 ,  0.88235295, -0.372549  ,  0.17647064,\n",
       "         1.        ,  0.79607844,  0.73333335,  0.47450984,  0.20784318,\n",
       "         0.49803925,  0.64705884,  0.6       ,  0.6392157 ,  0.7411765 ,\n",
       "         0.7882353 ,  0.7647059 , -1.        ],\n",
       "       [-0.23137254,  0.827451  ,  0.5529412 ,  0.64705884,  0.7411765 ,\n",
       "         0.79607844,  0.79607844,  0.8352941 ,  0.9529412 ,  0.7254902 ,\n",
       "         0.52156866,  0.6862745 ,  0.7019608 ,  0.8901961 , -0.49019605,\n",
       "        -0.42745095, -0.16862744, -0.08235294,  0.3176471 ,  0.7176471 ,\n",
       "         0.73333335,  0.6862745 ,  0.7019608 ,  0.7490196 ,  0.7490196 ,\n",
       "         0.75686276,  0.79607844, -0.77254903],\n",
       "       [-0.41176468,  0.6       ,  0.6627451 ,  0.6       ,  0.5137255 ,\n",
       "         0.60784316,  0.654902  ,  0.7647059 ,  0.69411767,  0.45098042,\n",
       "         0.54509807,  0.6156863 ,  0.5529412 ,  0.67058825,  0.88235295,\n",
       "         0.5294118 ,  0.78039217,  0.92156863,  0.8745098 ,  0.7490196 ,\n",
       "         0.70980394,  0.6627451 ,  0.6392157 ,  0.7411765 ,  0.7254902 ,\n",
       "         0.73333335,  0.8039216 , -0.47450978],\n",
       "       [-0.62352943,  0.5921569 ,  0.43529415,  0.52156866,  0.67058825,\n",
       "         0.54509807,  0.45098042,  0.4901961 ,  0.52156866,  0.5058824 ,\n",
       "         0.58431375,  0.6784314 ,  0.7176471 ,  0.73333335,  0.7254902 ,\n",
       "         0.8509804 ,  0.7647059 ,  0.69411767,  0.56078434,  0.6156863 ,\n",
       "         0.45882356,  0.41960788,  0.38823533,  0.34901965,  0.41960788,\n",
       "         0.60784316,  0.6156863 , -0.09803921],\n",
       "       [-1.        , -0.04313725,  0.7176471 ,  0.5137255 ,  0.4039216 ,\n",
       "         0.3411765 ,  0.43529415,  0.5372549 ,  0.6       ,  0.64705884,\n",
       "         0.67058825,  0.62352943,  0.654902  ,  0.64705884,  0.5686275 ,\n",
       "         0.5372549 ,  0.52156866,  0.49803925,  0.5294118 ,  0.49803925,\n",
       "         0.5529412 ,  0.5058824 ,  0.3803922 ,  0.22352946,  0.30980396,\n",
       "         0.38823533,  0.64705884, -0.27843136],\n",
       "       [-1.        , -1.        , -0.41960782,  0.48235297,  0.6627451 ,\n",
       "         0.49803925,  0.37254906,  0.34901965,  0.37254906,  0.41960788,\n",
       "         0.45098042,  0.47450984,  0.48235297,  0.47450984,  0.5137255 ,\n",
       "         0.5529412 ,  0.6       ,  0.6392157 ,  0.64705884,  0.64705884,\n",
       "         0.654902  ,  0.47450984,  0.47450984,  0.52156866,  0.5058824 ,\n",
       "         0.69411767,  0.33333337, -1.        ],\n",
       "       [-0.9843137 , -1.        , -1.        , -1.        , -0.4823529 ,\n",
       "         0.5686275 ,  0.7411765 ,  0.85882354,  0.8745098 ,  0.8980392 ,\n",
       "         0.92941177,  0.90588236,  0.9137255 ,  0.73333335,  0.7254902 ,\n",
       "         0.5137255 ,  0.49803925,  0.4039216 ,  0.427451  ,  0.427451  ,\n",
       "         0.41960788,  0.3803922 ,  0.30196083,  0.3176471 , -0.2235294 ,\n",
       "        -0.54509807, -1.        , -1.        ],\n",
       "       [-1.        , -1.        , -1.        , -1.        , -1.        ,\n",
       "        -1.        , -1.        , -0.6862745 , -0.52156866, -0.654902  ,\n",
       "        -0.4352941 , -0.6784314 , -0.7254902 , -1.        , -1.        ,\n",
       "        -1.        , -1.        , -1.        , -1.        , -1.        ,\n",
       "        -1.        , -1.        , -1.        , -1.        , -1.        ,\n",
       "        -1.        , -1.        , -1.        ],\n",
       "       [-1.        , -1.        , -1.        , -1.        , -1.        ,\n",
       "        -1.        , -1.        , -1.        , -1.        , -1.        ,\n",
       "        -1.        , -1.        , -1.        , -1.        , -1.        ,\n",
       "        -1.        , -1.        , -1.        , -1.        , -1.        ,\n",
       "        -1.        , -1.        , -1.        , -1.        , -1.        ,\n",
       "        -1.        , -1.        , -1.        ],\n",
       "       [-1.        , -1.        , -1.        , -1.        , -1.        ,\n",
       "        -1.        , -1.        , -1.        , -1.        , -1.        ,\n",
       "        -1.        , -1.        , -1.        , -1.        , -1.        ,\n",
       "        -1.        , -1.        , -1.        , -1.        , -1.        ,\n",
       "        -1.        , -1.        , -1.        , -1.        , -1.        ,\n",
       "        -1.        , -1.        , -1.        ]], dtype=float32)"
      ]
     },
     "execution_count": 22,
     "metadata": {},
     "output_type": "execute_result"
    }
   ],
   "source": [
    "torch_image.numpy()"
   ]
  },
  {
   "cell_type": "code",
   "execution_count": 27,
   "id": "1e1246ef-d637-4b9a-9e30-62ae817216ed",
   "metadata": {},
   "outputs": [],
   "source": [
    "import os # kernel error 발생 시 추가\n",
    "os.environ['KMP_DUPLICATE_LIB_OK'] = 'True'"
   ]
  },
  {
   "cell_type": "code",
   "execution_count": 28,
   "id": "1a945051-22a4-4410-8740-f9c4ab3506fb",
   "metadata": {},
   "outputs": [
    {
     "data": {
      "image/png": "[encoded data removed]",
      "text/plain": [
       "<Figure size 640x480 with 1 Axes>"
      ]
     },
     "metadata": {},
     "output_type": "display_data"
    }
   ],
   "source": [
    "plt.imshow(torch_image.numpy(), 'gray')\n",
    "plt.show()"
   ]
  },
  {
   "cell_type": "code",
   "execution_count": 29,
   "id": "0e7b55a3-90df-414a-bee7-5a20ba31ec80",
   "metadata": {},
   "outputs": [
    {
     "data": {
      "text/plain": [
       "tensor(9)"
      ]
     },
     "execution_count": 29,
     "metadata": {},
     "output_type": "execute_result"
    }
   ],
   "source": [
    "labels[0]"
   ]
  },
  {
   "cell_type": "code",
   "execution_count": null,
   "id": "387a1bfe-bccb-458c-81ae-60998eeb9543",
   "metadata": {},
   "outputs": [],
   "source": []
  }
 ],
 "metadata": {
  "kernelspec": {
   "display_name": "Python 3 (ipykernel)",
   "language": "python",
   "name": "python3"
  },
  "language_info": {
   "codemirror_mode": {
    "name": "ipython",
    "version": 3
   },
   "file_extension": ".py",
   "mimetype": "text/x-python",
   "name": "python",
   "nbconvert_exporter": "python",
   "pygments_lexer": "ipython3",
   "version": "3.12.2"
  }
 },
 "nbformat": 4,
 "nbformat_minor": 5
}
