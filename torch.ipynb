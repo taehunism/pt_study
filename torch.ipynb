{
 "cells": [
  {
   "cell_type": "code",
   "execution_count": 43,
   "id": "0a3f1edc-cf36-4ec8-b913-ae79c0884a8d",
   "metadata": {},
   "outputs": [],
   "source": [
    "from torchvision import datasets, transforms\n",
    "from torch.utils import data"
   ]
  },
  {
   "cell_type": "code",
   "execution_count": 44,
   "id": "5002a967-3784-424e-bed8-eba07ad70331",
   "metadata": {},
   "outputs": [],
   "source": [
    "train_loader = data.DataLoader(\n",
    "    datasets.FashionMNIST('dataset/', train=True, download=True,\n",
    "                         transform=transforms.Compose([\n",
    "                             #증폭 추가\n",
    "                             transforms.RandomHorizontalFlip(),\n",
    "                             transforms.ToTensor(),\n",
    "                             transforms.Normalize(mean=(0.5,), std=(0.5,))\n",
    "                         ])\n",
    "                         ),\n",
    "    batch_size=32\n",
    ")\n",
    "                          \n"
   ]
  },
  {
   "cell_type": "code",
   "execution_count": 45,
   "id": "e19f6753-e3cc-4b6c-872b-56838c0af617",
   "metadata": {},
   "outputs": [],
   "source": [
    "test_loader = data.DataLoader(\n",
    "    datasets.FashionMNIST('dataset/', train=False, download=True,\n",
    "                         transform=transforms.Compose([\n",
    "                             #증폭 추가\n",
    "                             transforms.RandomHorizontalFlip(),\n",
    "                             transforms.ToTensor(),\n",
    "                             transforms.Normalize(mean=(0.5,), std=(0.5,))\n",
    "                         ])\n",
    "                         ),\n",
    "    batch_size=32\n",
    ")\n",
    "                "
   ]
  },
  {
   "cell_type": "code",
   "execution_count": 46,
   "id": "828b3ecf-e943-4cc7-99a2-387da919d5d7",
   "metadata": {},
   "outputs": [
    {
     "data": {
      "text/plain": [
       "(1875, 313)"
      ]
     },
     "execution_count": 46,
     "metadata": {},
     "output_type": "execute_result"
    }
   ],
   "source": [
    "len(train_loader), len(test_loader) #배치사이즈 32여서 각 길이에 * 32 해주면 됨\n",
    "# 대충 6만개 1만개해서 7만개 -> 잘 했음"
   ]
  },
  {
   "cell_type": "code",
   "execution_count": 47,
   "id": "8a7e9cf0-5333-4e87-bb55-57db8cf2be06",
   "metadata": {},
   "outputs": [
    {
     "data": {
      "text/plain": [
       "torch.Size([32, 1, 28, 28])"
      ]
     },
     "execution_count": 47,
     "metadata": {},
     "output_type": "execute_result"
    }
   ],
   "source": [
    "images, labels = next(iter(train_loader))\n",
    "images.shape #4개의 값 , batch_size, channel, height, width -> 넓이"
   ]
  },
  {
   "cell_type": "code",
   "execution_count": 48,
   "id": "91688282-798f-46d8-83a1-4b1a6f38c028",
   "metadata": {},
   "outputs": [
    {
     "data": {
      "text/plain": [
       "torch.Size([32])"
      ]
     },
     "execution_count": 48,
     "metadata": {},
     "output_type": "execute_result"
    }
   ],
   "source": [
    "labels.shape"
   ]
  },
  {
   "cell_type": "code",
   "execution_count": 49,
   "id": "223b9a3b-ad60-4239-9ffa-0d1c25687f5e",
   "metadata": {},
   "outputs": [
    {
     "data": {
      "text/plain": [
       "torch.Size([1, 28, 28])"
      ]
     },
     "execution_count": 49,
     "metadata": {},
     "output_type": "execute_result"
    }
   ],
   "source": [
    "images[0].shape"
   ]
  },
  {
   "cell_type": "code",
   "execution_count": 50,
   "id": "7eb5f564-3275-4d90-b094-ae58a478783f",
   "metadata": {},
   "outputs": [],
   "source": [
    "import matplotlib.pyplot as plt\n",
    "import numpy as np"
   ]
  },
  {
   "cell_type": "code",
   "execution_count": 51,
   "id": "0a78f906-f6bb-4367-90a1-118f68712959",
   "metadata": {},
   "outputs": [
    {
     "data": {
      "text/plain": [
       "torch.Size([28, 28])"
      ]
     },
     "execution_count": 51,
     "metadata": {},
     "output_type": "execute_result"
    }
   ],
   "source": [
    "import torch\n",
    "torch_image = torch.squeeze(images[0]) #1을 제거 후 28,28 로 시각화를 해보기 위해 squeeze()함수 사용\n",
    "torch_image.shape"
   ]
  },
  {
   "cell_type": "code",
   "execution_count": 52,
   "id": "2233116d-e66c-46d6-84d0-73d34548a0a8",
   "metadata": {},
   "outputs": [
    {
     "data": {
      "text/plain": [
       "array([[-1.        , -1.        , -1.        , -1.        , -1.        ,\n",
       "        -1.        , -1.        , -1.        , -1.        , -1.        ,\n",
       "        -1.        , -1.        , -1.        , -1.        , -1.        ,\n",
       "        -1.        , -1.        , -1.        , -1.        , -1.        ,\n",
       "        -1.        , -1.        , -1.        , -1.        , -1.        ,\n",
       "        -1.        , -1.        , -1.        ],\n",
       "       [-1.        , -1.        , -1.        , -1.        , -1.        ,\n",
       "        -1.        , -1.        , -1.        , -1.        , -1.        ,\n",
       "        -1.        , -1.        , -1.        , -1.        , -1.        ,\n",
       "        -1.        , -1.        , -1.        , -1.        , -1.        ,\n",
       "        -1.        , -1.        , -1.        , -1.        , -1.        ,\n",
       "        -1.        , -1.        , -1.        ],\n",
       "       [-1.        , -1.        , -1.        , -1.        , -1.        ,\n",
       "        -1.        , -1.        , -1.        , -1.        , -1.        ,\n",
       "        -1.        , -1.        , -1.        , -1.        , -1.        ,\n",
       "        -1.        , -1.        , -1.        , -1.        , -1.        ,\n",
       "        -1.        , -1.        , -1.        , -1.        , -1.        ,\n",
       "        -1.        , -1.        , -1.        ],\n",
       "       [-1.        , -1.        , -1.        , -1.        , -1.        ,\n",
       "        -1.        , -1.        , -1.        , -1.        , -1.        ,\n",
       "        -1.        , -1.        , -0.99215686, -1.        , -1.        ,\n",
       "        -0.8980392 , -0.42745095, -1.        , -1.        , -0.99215686,\n",
       "        -0.96862745, -1.        , -1.        , -1.        , -1.        ,\n",
       "        -0.99215686, -0.99215686, -1.        ],\n",
       "       [-1.        , -1.        , -1.        , -1.        , -1.        ,\n",
       "        -1.        , -1.        , -1.        , -1.        , -1.        ,\n",
       "        -1.        , -1.        , -0.9764706 , -1.        , -0.7176471 ,\n",
       "         0.06666672, -0.00392157, -0.5137255 , -0.5764706 , -1.        ,\n",
       "        -1.        , -1.        , -0.99215686, -0.9764706 , -0.96862745,\n",
       "        -1.        , -1.        , -0.9764706 ],\n",
       "       [-1.        , -1.        , -1.        , -1.        , -1.        ,\n",
       "        -1.        , -1.        , -1.        , -1.        , -1.        ,\n",
       "        -1.        , -1.        , -0.9529412 , -1.        , -0.19999999,\n",
       "         0.6       ,  0.3803922 ,  0.05098045,  0.12941182, -0.03529412,\n",
       "        -0.81960785, -1.        , -1.        , -1.        , -1.        ,\n",
       "        -0.90588236, -0.92156863, -1.        ],\n",
       "       [-1.        , -1.        , -1.        , -1.        , -1.        ,\n",
       "        -1.        , -1.        , -1.        , -1.        , -1.        ,\n",
       "        -1.        , -1.        , -1.        , -1.        ,  0.21568632,\n",
       "         0.8509804 ,  0.62352943,  0.39607847, -0.1607843 ,  0.22352946,\n",
       "         0.26274514, -0.14509803, -0.4980392 , -0.81960785, -0.3960784 ,\n",
       "         0.0196079 , -0.4352941 , -0.88235295],\n",
       "       [-1.        , -1.        , -1.        , -1.        , -1.        ,\n",
       "        -1.        , -1.        , -1.        , -1.        , -1.        ,\n",
       "        -1.        , -0.99215686, -1.        , -0.4588235 ,  0.62352943,\n",
       "         0.7490196 ,  0.70980394,  0.69411767,  0.69411767,  0.27843142,\n",
       "        -0.00392157, -0.05098039, -0.04313725,  0.14509809,  0.10588241,\n",
       "        -0.3098039 ,  0.34901965, -0.4823529 ],\n",
       "       [-1.        , -1.        , -1.        , -1.        , -1.        ,\n",
       "        -1.        , -1.        , -1.        , -1.        , -0.99215686,\n",
       "        -0.99215686, -0.99215686, -1.        ,  0.5686275 ,  0.81960785,\n",
       "         0.81960785,  0.827451  ,  0.79607844,  0.7490196 ,  0.7490196 ,\n",
       "         0.6862745 ,  0.67058825,  0.28627455, -0.00392157, -0.03529412,\n",
       "         0.5372549 ,  0.79607844, -1.        ],\n",
       "       [-1.        , -1.        , -1.        , -1.        , -1.        ,\n",
       "        -1.        , -1.        , -1.        , -1.        , -1.        ,\n",
       "        -1.        , -1.        , -1.        ,  0.43529415,  0.7647059 ,\n",
       "         0.69411767,  0.7490196 ,  0.7882353 ,  0.84313726,  0.78039217,\n",
       "         0.75686276,  0.7411765 ,  0.75686276,  0.73333335,  0.7490196 ,\n",
       "         0.92156863,  0.35686278, -1.        ],\n",
       "       [-1.        , -1.        , -1.        , -1.        , -1.        ,\n",
       "        -1.        , -1.        , -1.        , -1.        , -1.        ,\n",
       "        -1.        , -1.        , -1.        ,  0.5137255 ,  0.7882353 ,\n",
       "         0.70980394,  0.67058825,  0.5529412 ,  0.41176474,  0.6627451 ,\n",
       "         0.64705884,  0.654902  ,  0.67058825,  0.7490196 ,  0.7254902 ,\n",
       "         0.90588236,  0.58431375, -1.        ],\n",
       "       [-1.        , -1.        , -1.        , -1.        , -1.        ,\n",
       "        -1.        , -1.        , -1.        , -1.        , -0.99215686,\n",
       "        -0.9764706 , -1.        , -0.90588236,  0.7176471 ,  0.7254902 ,\n",
       "         0.6627451 ,  0.70980394,  0.5058824 ,  0.32549024,  0.78039217,\n",
       "         0.6313726 ,  0.70980394,  0.75686276,  0.6627451 ,  0.77254903,\n",
       "         0.54509807,  0.6392157 , -0.5921569 ],\n",
       "       [-1.        , -1.        , -1.        , -1.        , -1.        ,\n",
       "        -1.        , -1.        , -1.        , -1.        , -1.        ,\n",
       "        -0.9529412 , -1.        , -0.2235294 ,  0.9137255 ,  0.7411765 ,\n",
       "         0.7254902 ,  0.70980394,  0.5921569 ,  0.5529412 ,  0.73333335,\n",
       "         0.6862745 ,  0.67058825,  0.7411765 ,  0.7254902 ,  0.92156863,\n",
       "        -0.06666666,  0.30980396, -0.56078434],\n",
       "       [-1.        , -1.        , -1.        , -1.        , -1.        ,\n",
       "        -1.        , -1.        , -1.        , -1.        , -0.96862745,\n",
       "        -1.        , -1.        , -0.5686275 ,  0.8509804 ,  0.7882353 ,\n",
       "         0.8039216 ,  0.7882353 ,  0.88235295,  0.81960785,  0.67058825,\n",
       "         0.70980394,  0.7490196 ,  0.8352941 ,  0.7019608 ,  0.7019608 ,\n",
       "         0.6392157 , -0.27843136, -1.        ],\n",
       "       [-1.        , -1.        , -0.99215686, -0.96862745, -0.9529412 ,\n",
       "        -0.94509804, -0.9843137 , -1.        , -1.        , -1.        ,\n",
       "        -1.        , -1.        ,  0.85882354,  0.77254903,  0.7019608 ,\n",
       "         0.7490196 ,  0.7411765 ,  0.7176471 ,  0.7411765 ,  0.73333335,\n",
       "         0.69411767,  0.7490196 ,  0.79607844,  0.6862745 ,  0.70980394,\n",
       "         1.        , -0.3960784 , -1.        ],\n",
       "       [-1.        , -0.9764706 , -1.        , -1.        , -1.        ,\n",
       "        -1.        , -1.        , -1.        , -1.        , -0.5137255 ,\n",
       "         0.13725495,  0.6       ,  0.7882353 ,  0.62352943,  0.67058825,\n",
       "         0.73333335,  0.70980394,  0.6313726 ,  0.654902  ,  0.70980394,\n",
       "         0.75686276,  0.7490196 ,  0.7176471 ,  0.6862745 ,  0.75686276,\n",
       "         0.9137255 ,  0.24705887, -1.        ],\n",
       "       [-1.        , -1.        , -1.        , -1.        , -0.85882354,\n",
       "        -0.654902  , -0.35686272, -0.1607843 ,  0.48235297,  0.7882353 ,\n",
       "         0.7254902 ,  0.7411765 ,  0.7019608 ,  0.77254903,  0.5686275 ,\n",
       "         0.60784316,  0.654902  ,  0.8039216 ,  0.75686276,  0.8352941 ,\n",
       "         0.3803922 ,  0.47450984,  0.9607843 ,  0.94509804,  0.827451  ,\n",
       "         0.8666667 ,  0.6862745 , -1.        ],\n",
       "       [-1.        , -0.5529412 ,  0.4666667 ,  0.6313726 ,  0.75686276,\n",
       "         0.73333335,  0.75686276,  0.6313726 ,  0.6       ,  0.6784314 ,\n",
       "         0.6313726 ,  0.6392157 ,  0.5686275 ,  0.24705887,  0.92156863,\n",
       "         0.5137255 ,  0.6156863 ,  0.7490196 ,  1.        ,  1.        ,\n",
       "         0.73333335,  0.8352941 ,  0.73333335,  0.654902  ,  0.7254902 ,\n",
       "         0.81960785,  0.92941177, -1.        ],\n",
       "       [-0.9764706 ,  0.58431375,  0.7882353 ,  0.75686276,  0.73333335,\n",
       "         0.654902  ,  0.654902  ,  0.6784314 ,  0.60784316,  0.60784316,\n",
       "         0.60784316,  0.7254902 ,  0.88235295, -0.372549  ,  0.17647064,\n",
       "         1.        ,  0.79607844,  0.73333335,  0.47450984,  0.20784318,\n",
       "         0.49803925,  0.64705884,  0.6       ,  0.6392157 ,  0.7411765 ,\n",
       "         0.7882353 ,  0.7647059 , -1.        ],\n",
       "       [-0.23137254,  0.827451  ,  0.5529412 ,  0.64705884,  0.7411765 ,\n",
       "         0.79607844,  0.79607844,  0.8352941 ,  0.9529412 ,  0.7254902 ,\n",
       "         0.52156866,  0.6862745 ,  0.7019608 ,  0.8901961 , -0.49019605,\n",
       "        -0.42745095, -0.16862744, -0.08235294,  0.3176471 ,  0.7176471 ,\n",
       "         0.73333335,  0.6862745 ,  0.7019608 ,  0.7490196 ,  0.7490196 ,\n",
       "         0.75686276,  0.79607844, -0.77254903],\n",
       "       [-0.41176468,  0.6       ,  0.6627451 ,  0.6       ,  0.5137255 ,\n",
       "         0.60784316,  0.654902  ,  0.7647059 ,  0.69411767,  0.45098042,\n",
       "         0.54509807,  0.6156863 ,  0.5529412 ,  0.67058825,  0.88235295,\n",
       "         0.5294118 ,  0.78039217,  0.92156863,  0.8745098 ,  0.7490196 ,\n",
       "         0.70980394,  0.6627451 ,  0.6392157 ,  0.7411765 ,  0.7254902 ,\n",
       "         0.73333335,  0.8039216 , -0.47450978],\n",
       "       [-0.62352943,  0.5921569 ,  0.43529415,  0.52156866,  0.67058825,\n",
       "         0.54509807,  0.45098042,  0.4901961 ,  0.52156866,  0.5058824 ,\n",
       "         0.58431375,  0.6784314 ,  0.7176471 ,  0.73333335,  0.7254902 ,\n",
       "         0.8509804 ,  0.7647059 ,  0.69411767,  0.56078434,  0.6156863 ,\n",
       "         0.45882356,  0.41960788,  0.38823533,  0.34901965,  0.41960788,\n",
       "         0.60784316,  0.6156863 , -0.09803921],\n",
       "       [-1.        , -0.04313725,  0.7176471 ,  0.5137255 ,  0.4039216 ,\n",
       "         0.3411765 ,  0.43529415,  0.5372549 ,  0.6       ,  0.64705884,\n",
       "         0.67058825,  0.62352943,  0.654902  ,  0.64705884,  0.5686275 ,\n",
       "         0.5372549 ,  0.52156866,  0.49803925,  0.5294118 ,  0.49803925,\n",
       "         0.5529412 ,  0.5058824 ,  0.3803922 ,  0.22352946,  0.30980396,\n",
       "         0.38823533,  0.64705884, -0.27843136],\n",
       "       [-1.        , -1.        , -0.41960782,  0.48235297,  0.6627451 ,\n",
       "         0.49803925,  0.37254906,  0.34901965,  0.37254906,  0.41960788,\n",
       "         0.45098042,  0.47450984,  0.48235297,  0.47450984,  0.5137255 ,\n",
       "         0.5529412 ,  0.6       ,  0.6392157 ,  0.64705884,  0.64705884,\n",
       "         0.654902  ,  0.47450984,  0.47450984,  0.52156866,  0.5058824 ,\n",
       "         0.69411767,  0.33333337, -1.        ],\n",
       "       [-0.9843137 , -1.        , -1.        , -1.        , -0.4823529 ,\n",
       "         0.5686275 ,  0.7411765 ,  0.85882354,  0.8745098 ,  0.8980392 ,\n",
       "         0.92941177,  0.90588236,  0.9137255 ,  0.73333335,  0.7254902 ,\n",
       "         0.5137255 ,  0.49803925,  0.4039216 ,  0.427451  ,  0.427451  ,\n",
       "         0.41960788,  0.3803922 ,  0.30196083,  0.3176471 , -0.2235294 ,\n",
       "        -0.54509807, -1.        , -1.        ],\n",
       "       [-1.        , -1.        , -1.        , -1.        , -1.        ,\n",
       "        -1.        , -1.        , -0.6862745 , -0.52156866, -0.654902  ,\n",
       "        -0.4352941 , -0.6784314 , -0.7254902 , -1.        , -1.        ,\n",
       "        -1.        , -1.        , -1.        , -1.        , -1.        ,\n",
       "        -1.        , -1.        , -1.        , -1.        , -1.        ,\n",
       "        -1.        , -1.        , -1.        ],\n",
       "       [-1.        , -1.        , -1.        , -1.        , -1.        ,\n",
       "        -1.        , -1.        , -1.        , -1.        , -1.        ,\n",
       "        -1.        , -1.        , -1.        , -1.        , -1.        ,\n",
       "        -1.        , -1.        , -1.        , -1.        , -1.        ,\n",
       "        -1.        , -1.        , -1.        , -1.        , -1.        ,\n",
       "        -1.        , -1.        , -1.        ],\n",
       "       [-1.        , -1.        , -1.        , -1.        , -1.        ,\n",
       "        -1.        , -1.        , -1.        , -1.        , -1.        ,\n",
       "        -1.        , -1.        , -1.        , -1.        , -1.        ,\n",
       "        -1.        , -1.        , -1.        , -1.        , -1.        ,\n",
       "        -1.        , -1.        , -1.        , -1.        , -1.        ,\n",
       "        -1.        , -1.        , -1.        ]], dtype=float32)"
      ]
     },
     "execution_count": 52,
     "metadata": {},
     "output_type": "execute_result"
    }
   ],
   "source": [
    "torch_image.numpy()"
   ]
  },
  {
   "cell_type": "code",
   "execution_count": 53,
   "id": "1e1246ef-d637-4b9a-9e30-62ae817216ed",
   "metadata": {},
   "outputs": [],
   "source": [
    "import os # kernel error 발생 시 추가\n",
    "os.environ['KMP_DUPLICATE_LIB_OK'] = 'True'"
   ]
  },
  {
   "cell_type": "code",
   "execution_count": 54,
   "id": "1a945051-22a4-4410-8740-f9c4ab3506fb",
   "metadata": {},
   "outputs": [
    {
     "data": {
      "image/png": "[encoded data removed]",
      "text/plain": [
       "<Figure size 640x480 with 1 Axes>"
      ]
     },
     "metadata": {},
     "output_type": "display_data"
    }
   ],
   "source": [
    "plt.imshow(torch_image.numpy(), 'gray')\n",
    "plt.show()"
   ]
  },
  {
   "cell_type": "code",
   "execution_count": 55,
   "id": "0e7b55a3-90df-414a-bee7-5a20ba31ec80",
   "metadata": {},
   "outputs": [
    {
     "data": {
      "text/plain": [
       "tensor(9)"
      ]
     },
     "execution_count": 55,
     "metadata": {},
     "output_type": "execute_result"
    }
   ],
   "source": [
    "labels[0]"
   ]
  },
  {
   "cell_type": "code",
   "execution_count": 56,
   "id": "2cc89792",
   "metadata": {},
   "outputs": [],
   "source": [
    "# input layer in\n",
    "# hidden layer in-out (FC)\n",
    "# output layer out"
   ]
  },
  {
   "cell_type": "markdown",
   "id": "21016999",
   "metadata": {},
   "source": []
  },
  {
   "cell_type": "code",
   "execution_count": 57,
   "id": "f4b5493f",
   "metadata": {},
   "outputs": [],
   "source": [
    "import torch\n",
    "import torch.nn as nn\n",
    "import torch.optim as optim\n",
    "import torch.nn.functional as f"
   ]
  },
  {
   "cell_type": "code",
   "execution_count": 58,
   "id": "e975d168",
   "metadata": {},
   "outputs": [],
   "source": [
    "torch.manual_seed(14)\n",
    "use_cuda = torch.cuda.is_available()\n",
    "device = torch.device('cuda' if use_cuda else 'cpu')\n",
    "                    "
   ]
  },
  {
   "cell_type": "code",
   "execution_count": 59,
   "id": "ff500636",
   "metadata": {},
   "outputs": [],
   "source": [
    "#모델 정의는 클래스로\n",
    "class Ann(nn.Module):\n",
    "    def __init__(self, dropout=0.2):\n",
    "        super(Ann, self).__init__()\n",
    "        #레이어 구현\n",
    "        self.fc1 = nn.Linear(784,256) # in - 28 X 28 data, out - 256\n",
    "        self.fc2 = nn.Linear(256,128) # hidden layer\n",
    "        self.fc3 = nn.Linear(128,10) # ouptut layer\n",
    "        #Dropout 추가\n",
    "        self.dropout = dropout\n",
    "        \n",
    "    def forward(self, x): #정방향 연산\n",
    "        x = x.view(-1,784)\n",
    "        x = f.relu(self.fc1(x)) # 활성화 함수, input\n",
    "        x = f.relu(self.fc2(x)) # hidden\n",
    "        #활성화 함수 뒤에 드랍아웃 추가\n",
    "        x = f.dropout(x, training=self.training, p=self.dropout) #f 안에 있는 함수임\n",
    "        \n",
    "        x = self.fc3(x) # output layer\n",
    "        return x\n"
   ]
  },
  {
   "cell_type": "code",
   "execution_count": 60,
   "id": "322168d3",
   "metadata": {},
   "outputs": [],
   "source": [
    "model = Ann().to(device) #내가 설정한 device로 값 전달"
   ]
  },
  {
   "cell_type": "code",
   "execution_count": 61,
   "id": "45d8a7af",
   "metadata": {},
   "outputs": [],
   "source": [
    "optimizer = optim.SGD(model.parameters(), lr=0.01) #lr = learning rate"
   ]
  },
  {
   "cell_type": "code",
   "execution_count": 62,
   "id": "a62c7d02",
   "metadata": {},
   "outputs": [
    {
     "data": {
      "text/plain": [
       "Ann(\n",
       "  (fc1): Linear(in_features=784, out_features=256, bias=True)\n",
       "  (fc2): Linear(in_features=256, out_features=128, bias=True)\n",
       "  (fc3): Linear(in_features=128, out_features=10, bias=True)\n",
       ")"
      ]
     },
     "execution_count": 62,
     "metadata": {},
     "output_type": "execute_result"
    }
   ],
   "source": [
    "#학습 모드 지정\n",
    "model.train() #모델을 학습모드로 변환"
   ]
  },
  {
   "cell_type": "code",
   "execution_count": 63,
   "id": "70da2c2b",
   "metadata": {},
   "outputs": [
    {
     "data": {
      "text/plain": [
       "(torch.Size([32, 1, 28, 28]), torch.Size([32]))"
      ]
     },
     "execution_count": 63,
     "metadata": {},
     "output_type": "execute_result"
    }
   ],
   "source": [
    "data, target = images.to(device), labels.to(device)\n",
    "data.shape, target.shape"
   ]
  },
  {
   "cell_type": "code",
   "execution_count": 64,
   "id": "3881f603",
   "metadata": {},
   "outputs": [],
   "source": [
    "optimizer.zero_grad() #기울기 초기화"
   ]
  },
  {
   "cell_type": "code",
   "execution_count": 65,
   "id": "98c98815",
   "metadata": {},
   "outputs": [],
   "source": [
    "output = model(data)"
   ]
  },
  {
   "cell_type": "code",
   "execution_count": 66,
   "id": "9879aafa",
   "metadata": {},
   "outputs": [],
   "source": [
    "loss = f.cross_entropy(output, target) # 예측해야할 값이 2개면 binary_entropy()"
   ]
  },
  {
   "cell_type": "code",
   "execution_count": 67,
   "id": "8cba47c6",
   "metadata": {},
   "outputs": [],
   "source": [
    "loss.backward() #기울기를 구함 역연산"
   ]
  },
  {
   "cell_type": "code",
   "execution_count": 68,
   "id": "5eb3f1c8",
   "metadata": {},
   "outputs": [],
   "source": [
    "optimizer.step()"
   ]
  },
  {
   "cell_type": "code",
   "execution_count": 69,
   "id": "c6714f89",
   "metadata": {},
   "outputs": [],
   "source": [
    "#PyTorch모델 구조\n",
    "#ANN 모델 구조로 제작 \n",
    "#CPU로 값 전달, 최적화 알고리즘은 SGD사용 \n",
    "#에포크 지정, 학습모드 설정, 배치 사이즈 단위로 학습, 데이터 메모리 전송, 실젯값과 예측값 오차 계산, 기울기 연산\n",
    "#기울기 초기화, 모델의 예측값 연산, 최적화 알고리즘을 통해 가중치 수정\n"
   ]
  },
  {
   "cell_type": "code",
   "execution_count": 70,
   "id": "07057457",
   "metadata": {},
   "outputs": [],
   "source": [
    "EPOCHS = 10"
   ]
  },
  {
   "cell_type": "code",
   "execution_count": 71,
   "id": "63ccf3fa",
   "metadata": {},
   "outputs": [],
   "source": [
    "model = Ann().to(device)"
   ]
  },
  {
   "cell_type": "code",
   "execution_count": 72,
   "id": "5f93326d",
   "metadata": {},
   "outputs": [],
   "source": [
    "optimizer = optim.SGD(model.parameters(), lr = 0.01)"
   ]
  },
  {
   "cell_type": "code",
   "execution_count": 73,
   "id": "28dc8ef5",
   "metadata": {},
   "outputs": [
    {
     "name": "stdout",
     "output_type": "stream",
     "text": [
      "Train Epoch : 1 \t Loss : 0.7042257189750671\n",
      "Train Epoch : 2 \t Loss : 0.6161758303642273\n",
      "Train Epoch : 3 \t Loss : 0.5466352105140686\n",
      "Train Epoch : 4 \t Loss : 0.5019764304161072\n"
     ]
    },
    {
     "ename": "KeyboardInterrupt",
     "evalue": "",
     "output_type": "error",
     "traceback": [
      "\u001b[0;31m---------------------------------------------------------------------------\u001b[0m",
      "\u001b[0;31mKeyboardInterrupt\u001b[0m                         Traceback (most recent call last)",
      "Cell \u001b[0;32mIn[73], line 3\u001b[0m\n\u001b[1;32m      1\u001b[0m \u001b[38;5;28;01mfor\u001b[39;00m epoch \u001b[38;5;129;01min\u001b[39;00m \u001b[38;5;28mrange\u001b[39m(\u001b[38;5;241m1\u001b[39m, EPOCHS\u001b[38;5;241m+\u001b[39m\u001b[38;5;241m1\u001b[39m):\n\u001b[1;32m      2\u001b[0m     model\u001b[38;5;241m.\u001b[39mtrain()\n\u001b[0;32m----> 3\u001b[0m     \u001b[38;5;28;01mfor\u001b[39;00m batch_idx, (data, target) \u001b[38;5;129;01min\u001b[39;00m \u001b[38;5;28menumerate\u001b[39m(train_loader):\n\u001b[1;32m      4\u001b[0m         data, tarage \u001b[38;5;241m=\u001b[39m data\u001b[38;5;241m.\u001b[39mto(device), target\u001b[38;5;241m.\u001b[39mto(device) \u001b[38;5;66;03m#학습 데이터를 device 메모리로 전달\u001b[39;00m\n\u001b[1;32m      5\u001b[0m         optimizer\u001b[38;5;241m.\u001b[39mzero_grad() \u001b[38;5;66;03m#기울기 초기화\u001b[39;00m\n",
      "File \u001b[0;32m~/anaconda3/envs/pt_study/lib/python3.12/site-packages/torch/utils/data/dataloader.py:631\u001b[0m, in \u001b[0;36m_BaseDataLoaderIter.__next__\u001b[0;34m(self)\u001b[0m\n\u001b[1;32m    628\u001b[0m \u001b[38;5;28;01mif\u001b[39;00m \u001b[38;5;28mself\u001b[39m\u001b[38;5;241m.\u001b[39m_sampler_iter \u001b[38;5;129;01mis\u001b[39;00m \u001b[38;5;28;01mNone\u001b[39;00m:\n\u001b[1;32m    629\u001b[0m     \u001b[38;5;66;03m# TODO(https://github.com/pytorch/pytorch/issues/76750)\u001b[39;00m\n\u001b[1;32m    630\u001b[0m     \u001b[38;5;28mself\u001b[39m\u001b[38;5;241m.\u001b[39m_reset()  \u001b[38;5;66;03m# type: ignore[call-arg]\u001b[39;00m\n\u001b[0;32m--> 631\u001b[0m data \u001b[38;5;241m=\u001b[39m \u001b[38;5;28mself\u001b[39m\u001b[38;5;241m.\u001b[39m_next_data()\n\u001b[1;32m    632\u001b[0m \u001b[38;5;28mself\u001b[39m\u001b[38;5;241m.\u001b[39m_num_yielded \u001b[38;5;241m+\u001b[39m\u001b[38;5;241m=\u001b[39m \u001b[38;5;241m1\u001b[39m\n\u001b[1;32m    633\u001b[0m \u001b[38;5;28;01mif\u001b[39;00m \u001b[38;5;28mself\u001b[39m\u001b[38;5;241m.\u001b[39m_dataset_kind \u001b[38;5;241m==\u001b[39m _DatasetKind\u001b[38;5;241m.\u001b[39mIterable \u001b[38;5;129;01mand\u001b[39;00m \\\n\u001b[1;32m    634\u001b[0m         \u001b[38;5;28mself\u001b[39m\u001b[38;5;241m.\u001b[39m_IterableDataset_len_called \u001b[38;5;129;01mis\u001b[39;00m \u001b[38;5;129;01mnot\u001b[39;00m \u001b[38;5;28;01mNone\u001b[39;00m \u001b[38;5;129;01mand\u001b[39;00m \\\n\u001b[1;32m    635\u001b[0m         \u001b[38;5;28mself\u001b[39m\u001b[38;5;241m.\u001b[39m_num_yielded \u001b[38;5;241m>\u001b[39m \u001b[38;5;28mself\u001b[39m\u001b[38;5;241m.\u001b[39m_IterableDataset_len_called:\n",
      "File \u001b[0;32m~/anaconda3/envs/pt_study/lib/python3.12/site-packages/torch/utils/data/dataloader.py:675\u001b[0m, in \u001b[0;36m_SingleProcessDataLoaderIter._next_data\u001b[0;34m(self)\u001b[0m\n\u001b[1;32m    673\u001b[0m \u001b[38;5;28;01mdef\u001b[39;00m \u001b[38;5;21m_next_data\u001b[39m(\u001b[38;5;28mself\u001b[39m):\n\u001b[1;32m    674\u001b[0m     index \u001b[38;5;241m=\u001b[39m \u001b[38;5;28mself\u001b[39m\u001b[38;5;241m.\u001b[39m_next_index()  \u001b[38;5;66;03m# may raise StopIteration\u001b[39;00m\n\u001b[0;32m--> 675\u001b[0m     data \u001b[38;5;241m=\u001b[39m \u001b[38;5;28mself\u001b[39m\u001b[38;5;241m.\u001b[39m_dataset_fetcher\u001b[38;5;241m.\u001b[39mfetch(index)  \u001b[38;5;66;03m# may raise StopIteration\u001b[39;00m\n\u001b[1;32m    676\u001b[0m     \u001b[38;5;28;01mif\u001b[39;00m \u001b[38;5;28mself\u001b[39m\u001b[38;5;241m.\u001b[39m_pin_memory:\n\u001b[1;32m    677\u001b[0m         data \u001b[38;5;241m=\u001b[39m _utils\u001b[38;5;241m.\u001b[39mpin_memory\u001b[38;5;241m.\u001b[39mpin_memory(data, \u001b[38;5;28mself\u001b[39m\u001b[38;5;241m.\u001b[39m_pin_memory_device)\n",
      "File \u001b[0;32m~/anaconda3/envs/pt_study/lib/python3.12/site-packages/torch/utils/data/_utils/fetch.py:51\u001b[0m, in \u001b[0;36m_MapDatasetFetcher.fetch\u001b[0;34m(self, possibly_batched_index)\u001b[0m\n\u001b[1;32m     49\u001b[0m         data \u001b[38;5;241m=\u001b[39m \u001b[38;5;28mself\u001b[39m\u001b[38;5;241m.\u001b[39mdataset\u001b[38;5;241m.\u001b[39m__getitems__(possibly_batched_index)\n\u001b[1;32m     50\u001b[0m     \u001b[38;5;28;01melse\u001b[39;00m:\n\u001b[0;32m---> 51\u001b[0m         data \u001b[38;5;241m=\u001b[39m [\u001b[38;5;28mself\u001b[39m\u001b[38;5;241m.\u001b[39mdataset[idx] \u001b[38;5;28;01mfor\u001b[39;00m idx \u001b[38;5;129;01min\u001b[39;00m possibly_batched_index]\n\u001b[1;32m     52\u001b[0m \u001b[38;5;28;01melse\u001b[39;00m:\n\u001b[1;32m     53\u001b[0m     data \u001b[38;5;241m=\u001b[39m \u001b[38;5;28mself\u001b[39m\u001b[38;5;241m.\u001b[39mdataset[possibly_batched_index]\n",
      "File \u001b[0;32m~/anaconda3/envs/pt_study/lib/python3.12/site-packages/torchvision/datasets/mnist.py:143\u001b[0m, in \u001b[0;36mMNIST.__getitem__\u001b[0;34m(self, index)\u001b[0m\n\u001b[1;32m    139\u001b[0m img, target \u001b[38;5;241m=\u001b[39m \u001b[38;5;28mself\u001b[39m\u001b[38;5;241m.\u001b[39mdata[index], \u001b[38;5;28mint\u001b[39m(\u001b[38;5;28mself\u001b[39m\u001b[38;5;241m.\u001b[39mtargets[index])\n\u001b[1;32m    141\u001b[0m \u001b[38;5;66;03m# doing this so that it is consistent with all other datasets\u001b[39;00m\n\u001b[1;32m    142\u001b[0m \u001b[38;5;66;03m# to return a PIL Image\u001b[39;00m\n\u001b[0;32m--> 143\u001b[0m img \u001b[38;5;241m=\u001b[39m Image\u001b[38;5;241m.\u001b[39mfromarray(img\u001b[38;5;241m.\u001b[39mnumpy(), mode\u001b[38;5;241m=\u001b[39m\u001b[38;5;124m\"\u001b[39m\u001b[38;5;124mL\u001b[39m\u001b[38;5;124m\"\u001b[39m)\n\u001b[1;32m    145\u001b[0m \u001b[38;5;28;01mif\u001b[39;00m \u001b[38;5;28mself\u001b[39m\u001b[38;5;241m.\u001b[39mtransform \u001b[38;5;129;01mis\u001b[39;00m \u001b[38;5;129;01mnot\u001b[39;00m \u001b[38;5;28;01mNone\u001b[39;00m:\n\u001b[1;32m    146\u001b[0m     img \u001b[38;5;241m=\u001b[39m \u001b[38;5;28mself\u001b[39m\u001b[38;5;241m.\u001b[39mtransform(img)\n",
      "File \u001b[0;32m~/anaconda3/envs/pt_study/lib/python3.12/site-packages/PIL/Image.py:3122\u001b[0m, in \u001b[0;36mfromarray\u001b[0;34m(obj, mode)\u001b[0m\n\u001b[1;32m   3119\u001b[0m     \u001b[38;5;28;01melse\u001b[39;00m:\n\u001b[1;32m   3120\u001b[0m         obj \u001b[38;5;241m=\u001b[39m obj\u001b[38;5;241m.\u001b[39mtostring()\n\u001b[0;32m-> 3122\u001b[0m \u001b[38;5;28;01mreturn\u001b[39;00m frombuffer(mode, size, obj, \u001b[38;5;124m\"\u001b[39m\u001b[38;5;124mraw\u001b[39m\u001b[38;5;124m\"\u001b[39m, rawmode, \u001b[38;5;241m0\u001b[39m, \u001b[38;5;241m1\u001b[39m)\n",
      "File \u001b[0;32m~/anaconda3/envs/pt_study/lib/python3.12/site-packages/PIL/Image.py:3028\u001b[0m, in \u001b[0;36mfrombuffer\u001b[0;34m(mode, size, data, decoder_name, *args)\u001b[0m\n\u001b[1;32m   3026\u001b[0m     args \u001b[38;5;241m=\u001b[39m mode, \u001b[38;5;241m0\u001b[39m, \u001b[38;5;241m1\u001b[39m\n\u001b[1;32m   3027\u001b[0m \u001b[38;5;28;01mif\u001b[39;00m args[\u001b[38;5;241m0\u001b[39m] \u001b[38;5;129;01min\u001b[39;00m _MAPMODES:\n\u001b[0;32m-> 3028\u001b[0m     im \u001b[38;5;241m=\u001b[39m new(mode, (\u001b[38;5;241m0\u001b[39m, \u001b[38;5;241m0\u001b[39m))\n\u001b[1;32m   3029\u001b[0m     im \u001b[38;5;241m=\u001b[39m im\u001b[38;5;241m.\u001b[39m_new(core\u001b[38;5;241m.\u001b[39mmap_buffer(data, size, decoder_name, \u001b[38;5;241m0\u001b[39m, args))\n\u001b[1;32m   3030\u001b[0m     \u001b[38;5;28;01mif\u001b[39;00m mode \u001b[38;5;241m==\u001b[39m \u001b[38;5;124m\"\u001b[39m\u001b[38;5;124mP\u001b[39m\u001b[38;5;124m\"\u001b[39m:\n",
      "File \u001b[0;32m~/anaconda3/envs/pt_study/lib/python3.12/site-packages/PIL/Image.py:2934\u001b[0m, in \u001b[0;36mnew\u001b[0;34m(mode, size, color)\u001b[0m\n\u001b[1;32m   2930\u001b[0m     \u001b[38;5;28;01mfrom\u001b[39;00m \u001b[38;5;21;01m.\u001b[39;00m \u001b[38;5;28;01mimport\u001b[39;00m ImageColor\n\u001b[1;32m   2932\u001b[0m     color \u001b[38;5;241m=\u001b[39m ImageColor\u001b[38;5;241m.\u001b[39mgetcolor(color, mode)\n\u001b[0;32m-> 2934\u001b[0m im \u001b[38;5;241m=\u001b[39m Image()\n\u001b[1;32m   2935\u001b[0m \u001b[38;5;28;01mif\u001b[39;00m mode \u001b[38;5;241m==\u001b[39m \u001b[38;5;124m\"\u001b[39m\u001b[38;5;124mP\u001b[39m\u001b[38;5;124m\"\u001b[39m \u001b[38;5;129;01mand\u001b[39;00m \u001b[38;5;28misinstance\u001b[39m(color, (\u001b[38;5;28mlist\u001b[39m, \u001b[38;5;28mtuple\u001b[39m)) \u001b[38;5;129;01mand\u001b[39;00m \u001b[38;5;28mlen\u001b[39m(color) \u001b[38;5;129;01min\u001b[39;00m [\u001b[38;5;241m3\u001b[39m, \u001b[38;5;241m4\u001b[39m]:\n\u001b[1;32m   2936\u001b[0m     \u001b[38;5;66;03m# RGB or RGBA value for a P image\u001b[39;00m\n\u001b[1;32m   2937\u001b[0m     \u001b[38;5;28;01mfrom\u001b[39;00m \u001b[38;5;21;01m.\u001b[39;00m \u001b[38;5;28;01mimport\u001b[39;00m ImagePalette\n",
      "File \u001b[0;32m~/anaconda3/envs/pt_study/lib/python3.12/site-packages/PIL/Image.py:486\u001b[0m, in \u001b[0;36mImage.__init__\u001b[0;34m(self)\u001b[0m\n\u001b[1;32m    483\u001b[0m format_description: \u001b[38;5;28mstr\u001b[39m \u001b[38;5;241m|\u001b[39m \u001b[38;5;28;01mNone\u001b[39;00m \u001b[38;5;241m=\u001b[39m \u001b[38;5;28;01mNone\u001b[39;00m\n\u001b[1;32m    484\u001b[0m _close_exclusive_fp_after_loading \u001b[38;5;241m=\u001b[39m \u001b[38;5;28;01mTrue\u001b[39;00m\n\u001b[0;32m--> 486\u001b[0m \u001b[38;5;28;01mdef\u001b[39;00m \u001b[38;5;21m__init__\u001b[39m(\u001b[38;5;28mself\u001b[39m):\n\u001b[1;32m    487\u001b[0m     \u001b[38;5;66;03m# FIXME: take \"new\" parameters / other image?\u001b[39;00m\n\u001b[1;32m    488\u001b[0m     \u001b[38;5;66;03m# FIXME: turn mode and size into delegating properties?\u001b[39;00m\n\u001b[1;32m    489\u001b[0m     \u001b[38;5;28mself\u001b[39m\u001b[38;5;241m.\u001b[39mim \u001b[38;5;241m=\u001b[39m \u001b[38;5;28;01mNone\u001b[39;00m\n\u001b[1;32m    490\u001b[0m     \u001b[38;5;28mself\u001b[39m\u001b[38;5;241m.\u001b[39m_mode \u001b[38;5;241m=\u001b[39m \u001b[38;5;124m\"\u001b[39m\u001b[38;5;124m\"\u001b[39m\n",
      "File \u001b[0;32m~/anaconda3/envs/pt_study/lib/python3.12/site-packages/debugpy/_vendored/pydevd/_pydevd_bundle/pydevd_trace_dispatch_regular.py:326\u001b[0m, in \u001b[0;36mThreadTracer.__call__\u001b[0;34m(self, frame, event, arg)\u001b[0m\n\u001b[1;32m    323\u001b[0m         \u001b[38;5;28mself\u001b[39m\u001b[38;5;241m.\u001b[39m_args \u001b[38;5;241m=\u001b[39m args\n\u001b[1;32m    324\u001b[0m \u001b[38;5;66;03m# ENDIF\u001b[39;00m\n\u001b[0;32m--> 326\u001b[0m     \u001b[38;5;28;01mdef\u001b[39;00m \u001b[38;5;21m__call__\u001b[39m(\u001b[38;5;28mself\u001b[39m, frame, event, arg):\n\u001b[1;32m    327\u001b[0m \u001b[38;5;250m        \u001b[39m\u001b[38;5;124;03m''' This is the callback used when we enter some context in the debugger.\u001b[39;00m\n\u001b[1;32m    328\u001b[0m \n\u001b[1;32m    329\u001b[0m \u001b[38;5;124;03m        We also decorate the thread we are in with info about the debugging.\u001b[39;00m\n\u001b[0;32m   (...)\u001b[0m\n\u001b[1;32m    337\u001b[0m \u001b[38;5;124;03m            This is the global debugger (this method should actually be added as a method to it).\u001b[39;00m\n\u001b[1;32m    338\u001b[0m \u001b[38;5;124;03m        '''\u001b[39;00m\n\u001b[1;32m    339\u001b[0m         \u001b[38;5;66;03m# IFDEF CYTHON\u001b[39;00m\n\u001b[1;32m    340\u001b[0m         \u001b[38;5;66;03m# cdef str filename;\u001b[39;00m\n\u001b[1;32m    341\u001b[0m         \u001b[38;5;66;03m# cdef str base;\u001b[39;00m\n\u001b[0;32m   (...)\u001b[0m\n\u001b[1;32m    350\u001b[0m         \u001b[38;5;66;03m# DEBUG = 'code_to_debug' in frame.f_code.co_filename\u001b[39;00m\n\u001b[1;32m    351\u001b[0m         \u001b[38;5;66;03m# if DEBUG: print('ENTER: trace_dispatch: %s %s %s %s' % (frame.f_code.co_filename, frame.f_lineno, event, frame.f_code.co_name))\u001b[39;00m\n",
      "\u001b[0;31mKeyboardInterrupt\u001b[0m: "
     ]
    }
   ],
   "source": [
    "for epoch in range(1, EPOCHS+1):\n",
    "    model.train()\n",
    "    for batch_idx, (data, target) in enumerate(train_loader):\n",
    "        data, tarage = data.to(device), target.to(device) #학습 데이터를 device 메모리로 전달\n",
    "        optimizer.zero_grad() #기울기 초기화\n",
    "        output = model(data) #output은 모델의 예측값\n",
    "        loss = f.cross_entropy(output, target) #예측값과 실제값의 오차 계산\n",
    "        loss.backward() #기울기 계산\n",
    "        optimizer.step() #최적화 알고리즘으로 가중치 수정\n",
    "    print(f\"Train Epoch : {epoch} \\t Loss : {loss.item()}\") #학습을 하면 할 수록 오차가 줄어드는 것을 볼 수 있음"
   ]
  },
  {
   "cell_type": "code",
   "execution_count": 74,
   "id": "ad091687",
   "metadata": {},
   "outputs": [],
   "source": [
    "#ANN 성능평가\n",
    "#모델 평가 구현\n",
    "#평가 결과 출력 및 loss율 확인 -> 에포크에 따른 loss율 변화\n",
    "\n",
    "#모델은 새로 만들거임 안그러면 학습된 모델 계속 사용됨!\n",
    "EPOCHS = 30\n",
    "model = Ann(dropout=0.2).to(device) #dropout 값으로 0.2가 국룰 제일 많이 씀!\n",
    "optimizer = optim.SGD(model.parameters(), lr=0.01)\n"
   ]
  },
  {
   "cell_type": "code",
   "execution_count": 75,
   "id": "18f57cc8",
   "metadata": {},
   "outputs": [
    {
     "name": "stdout",
     "output_type": "stream",
     "text": [
      "Train Epoch : 1 \t Loss : 0.7010625600814819\n",
      "Test set : Average Loss 0.5976756726264953, Accuracy : 78.93\n",
      "Train Epoch : 2 \t Loss : 0.500709056854248\n",
      "Test set : Average Loss 0.5144268675804138, Accuracy : 81.54\n",
      "Train Epoch : 3 \t Loss : 0.46396684646606445\n",
      "Test set : Average Loss 0.47724523549079895, Accuracy : 82.89999999999999\n",
      "Train Epoch : 4 \t Loss : 0.4445422887802124\n",
      "Test set : Average Loss 0.44875427465438844, Accuracy : 83.84\n",
      "Train Epoch : 5 \t Loss : 0.3668469190597534\n",
      "Test set : Average Loss 0.43175197179317476, Accuracy : 84.48\n",
      "Train Epoch : 6 \t Loss : 0.36921563744544983\n",
      "Test set : Average Loss 0.41875088205337524, Accuracy : 84.72\n",
      "Train Epoch : 7 \t Loss : 0.33310621976852417\n",
      "Test set : Average Loss 0.4063181087017059, Accuracy : 85.47\n",
      "Train Epoch : 8 \t Loss : 0.27480512857437134\n",
      "Test set : Average Loss 0.39930114841461184, Accuracy : 85.69\n",
      "Train Epoch : 9 \t Loss : 0.26016947627067566\n",
      "Test set : Average Loss 0.39147331261634827, Accuracy : 85.97\n",
      "Train Epoch : 10 \t Loss : 0.2804264426231384\n",
      "Test set : Average Loss 0.3842462688684464, Accuracy : 86.14\n",
      "Train Epoch : 11 \t Loss : 0.24078300595283508\n",
      "Test set : Average Loss 0.37872329604625704, Accuracy : 86.38\n",
      "Train Epoch : 12 \t Loss : 0.24413882195949554\n",
      "Test set : Average Loss 0.3739590017557144, Accuracy : 86.45\n",
      "Train Epoch : 13 \t Loss : 0.23352575302124023\n",
      "Test set : Average Loss 0.36788868687152865, Accuracy : 86.83999999999999\n",
      "Train Epoch : 14 \t Loss : 0.23380377888679504\n",
      "Test set : Average Loss 0.363312469124794, Accuracy : 87.11\n",
      "Train Epoch : 15 \t Loss : 0.24931856989860535\n",
      "Test set : Average Loss 0.36102977178096773, Accuracy : 86.88\n",
      "Train Epoch : 16 \t Loss : 0.22127006947994232\n",
      "Test set : Average Loss 0.35218506022691726, Accuracy : 87.38\n",
      "Train Epoch : 17 \t Loss : 0.22110456228256226\n",
      "Test set : Average Loss 0.35048411036729815, Accuracy : 87.37\n",
      "Train Epoch : 18 \t Loss : 0.23770052194595337\n",
      "Test set : Average Loss 0.3498771618127823, Accuracy : 87.55\n",
      "Train Epoch : 19 \t Loss : 0.2532154619693756\n",
      "Test set : Average Loss 0.3463374113559723, Accuracy : 87.49\n",
      "Train Epoch : 20 \t Loss : 0.239822119474411\n",
      "Test set : Average Loss 0.3405128434062004, Accuracy : 87.67\n",
      "Train Epoch : 21 \t Loss : 0.2604004144668579\n",
      "Test set : Average Loss 0.343311489379406, Accuracy : 87.64999999999999\n",
      "Train Epoch : 22 \t Loss : 0.2501577138900757\n",
      "Test set : Average Loss 0.34241125423908236, Accuracy : 87.83999999999999\n",
      "Train Epoch : 23 \t Loss : 0.20075850188732147\n",
      "Test set : Average Loss 0.33735685480833055, Accuracy : 88.07000000000001\n",
      "Train Epoch : 24 \t Loss : 0.20014283061027527\n",
      "Test set : Average Loss 0.3376456148505211, Accuracy : 88.02\n",
      "Train Epoch : 25 \t Loss : 0.21825650334358215\n",
      "Test set : Average Loss 0.3310030884504318, Accuracy : 88.13\n",
      "Train Epoch : 26 \t Loss : 0.20957833528518677\n",
      "Test set : Average Loss 0.3308245248436928, Accuracy : 88.11\n",
      "Train Epoch : 27 \t Loss : 0.225505530834198\n",
      "Test set : Average Loss 0.32818633102178574, Accuracy : 88.26\n",
      "Train Epoch : 28 \t Loss : 0.22810453176498413\n",
      "Test set : Average Loss 0.32380459069013595, Accuracy : 88.48\n",
      "Train Epoch : 29 \t Loss : 0.24567145109176636\n",
      "Test set : Average Loss 0.33451319885253905, Accuracy : 88.28\n",
      "Train Epoch : 30 \t Loss : 0.24224933981895447\n",
      "Test set : Average Loss 0.32466322126388547, Accuracy : 88.42\n"
     ]
    }
   ],
   "source": [
    "train_history = []\n",
    "test_history = [] # 학습, 평가 데이터들의 로스 히스토리\n",
    "for epoch in range(1, EPOCHS+1):\n",
    "    model.train()\n",
    "    for batch_idx, (data, target) in enumerate(train_loader):\n",
    "        data, tarage = data.to(device), target.to(device) #학습 데이터를 device 메모리로 전달\n",
    "        optimizer.zero_grad() #기울기 초기화\n",
    "        output = model(data) #output은 모델의 예측값\n",
    "        loss = f.cross_entropy(output, target) #예측값과 실제값의 오차 계산\n",
    "        loss.backward() #기울기 계산\n",
    "        optimizer.step() #최적화 알고리즘으로 가중치 수정\n",
    "    print(f\"Train Epoch : {epoch} \\t Loss : {loss.item()}\") #학습을 하면 할 수록 오차가 줄어드는 것을 볼 수 있음\n",
    "    train_history.append(loss.item())\n",
    "    \n",
    "    model.eval() #검증 모드 validation\n",
    "    test_loss = 0\n",
    "    correct = 0\n",
    "    \n",
    "    with torch.no_grad(): #검증 할 때는기울기 계산할 필요 없음\n",
    "        for data, target in test_loader: #테스트 데이터만큼 반복\n",
    "            data, target = data.to(device), target.to(device) #데이터 device 메모리로 전달\n",
    "            output = model(data) #모델의 예측값\n",
    "            test_loss += f.cross_entropy(output, target, reduction='sum').item() #모든 오차의 합 계산\n",
    "            pred = output.argmax(dim=1, keepdim=True) #차원, 차원유지 옵션 , #가장 큰 값이 모델의 예측값\n",
    "            correct += pred.eq(target.view_as(pred)).sum().item() #예측값과 실제값이 같은 경우 1 더함\n",
    "            #반복이 끝나면 correct는 정답을 맞춘 갯수\n",
    "            \n",
    "    test_loss /= len(test_loader.dataset)\n",
    "    test_history.append(test_loss) #여기까지  평가단계\n",
    "    \n",
    "    print(f\"Test set : Average Loss {test_loss}, Accuracy : {correct/len(test_loader.dataset)*100}\") #백분율로 정확도 출력"
   ]
  },
  {
   "cell_type": "code",
   "execution_count": 76,
   "id": "39d55b01",
   "metadata": {},
   "outputs": [
    {
     "data": {
      "image/png": "[encoded data removed]",
      "text/plain": [
       "<Figure size 640x480 with 1 Axes>"
      ]
     },
     "metadata": {},
     "output_type": "display_data"
    }
   ],
   "source": [
    "import matplotlib.pyplot as plt\n",
    "plt.plot(train_history, c='g') #학습 데이터 로스율 감소 추이\n",
    "plt.plot(test_history, c='r') #새로운 데이터를 학습할 때 로스율 감소 추이\n",
    "plt.show()"
   ]
  },
  {
   "cell_type": "code",
   "execution_count": null,
   "id": "e4aad329",
   "metadata": {},
   "outputs": [],
   "source": [
    "#ANN 성능 개선!\n",
    "#과적합(over fitting) : 학습 데이터와 평가 데이터의 균형이 안맞는 현상\n",
    "# 학습 데이터에만 잘 맞고, 평가 데이터는 잘 안맞음 -> 과적합\n",
    "# 학습이 제대로 이루어지지 않아 학습 데이터에서 성능이 낮고, 평가가 더 높음 -> 과소적합\n",
    "\n",
    "#과적합 해결 방법\n",
    "# 데이터 정규화(Normalize) : 평균과 표준편차 값을 지정해서 정규화\n",
    "# Dropout(자주 사용) : 신경망의 일부를 사용하지 않음, 개별 뉴런의 연산결과에 가중치가 고정되는 현상 방지\n",
    "#   신경망의 뉴런 몇개를 내보낸다는 의미\n",
    "# 데이터 더 모으기 : 데이터를 일부 변형해서 개수 증가! (증폭시킴) "
   ]
  },
  {
   "cell_type": "code",
   "execution_count": null,
   "id": "f533138e",
   "metadata": {},
   "outputs": [],
   "source": []
  }
 ],
 "metadata": {
  "kernelspec": {
   "display_name": "Python 3 (ipykernel)",
   "language": "python",
   "name": "python3"
  },
  "language_info": {
   "codemirror_mode": {
    "name": "ipython",
    "version": 3
   },
   "file_extension": ".py",
   "mimetype": "text/x-python",
   "name": "python",
   "nbconvert_exporter": "python",
   "pygments_lexer": "ipython3",
   "version": "3.12.2"
  }
 },
 "nbformat": 4,
 "nbformat_minor": 5
}
