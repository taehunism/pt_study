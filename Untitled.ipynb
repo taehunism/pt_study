{
 "cells": [
  {
   "cell_type": "code",
   "execution_count": 1,
   "id": "caaca6dc-9556-4fec-b1aa-63d63e34b3f9",
   "metadata": {},
   "outputs": [],
   "source": [
    "# input layer in\n",
    "# hidden layer in-out (FC)\n",
    "# output layer out"
   ]
  },
  {
   "cell_type": "code",
   "execution_count": 3,
   "id": "3fd3d87c-5952-47bb-ac9d-72d5206f5d01",
   "metadata": {},
   "outputs": [],
   "source": [
    "import torch\n",
    "import torch.nn as nn\n",
    "import torch.optim as optim\n",
    "import torch.nn.functional as f"
   ]
  },
  {
   "cell_type": "code",
   "execution_count": 5,
   "id": "2f1635f5-3010-4edd-9a6d-fdae7f408dfc",
   "metadata": {},
   "outputs": [],
   "source": [
    "torch.manual_seed(14)\n",
    "use_cuda = torch.cuda.is_available()\n",
    "device = torch.device('cuda' if use_cuda else 'cpu')\n",
    "                    "
   ]
  },
  {
   "cell_type": "code",
   "execution_count": 6,
   "id": "f9e8f856-6b45-45db-8dd9-711d8886248a",
   "metadata": {},
   "outputs": [],
   "source": [
    "#모델 정의는 클래스로\n",
    "class Ann(nn.Module):\n",
    "    def __init__(self):\n",
    "        super(Ann, self).__init__()\n",
    "        #레이어 구현\n",
    "        self.fc1 = nn.Linear(784,256) # in - 28 X 28 data, out - 256\n",
    "        self.fc2 = nn.Linear(256,128) # hidden layer\n",
    "        self.fc3 = nn.Linear(128,10) # ouptut layer\n",
    "    def forward(self, x): #정방향 연산\n",
    "        x = x.view(-1,784)\n",
    "        x = f.relu(self.fc1(x)) # 활성화 함수, input\n",
    "        x = f.relu(self.fc2(x)) # hidden\n",
    "        x = self.fc3(x) # output layer\n",
    "        return x\n"
   ]
  },
  {
   "cell_type": "code",
   "execution_count": 7,
   "id": "be4b3898-4478-4d64-8d27-7af22799eb3c",
   "metadata": {},
   "outputs": [],
   "source": [
    "model = Ann().to(device) #내가 설정한 device로 값 전달"
   ]
  },
  {
   "cell_type": "code",
   "execution_count": 8,
   "id": "276d2332-cdbb-4b7c-97fc-f6dcfb3f539e",
   "metadata": {},
   "outputs": [],
   "source": [
    "optimizer = optim.SGD(model.parameters(), lr=0.01) #lr = learning rate"
   ]
  },
  {
   "cell_type": "code",
   "execution_count": 9,
   "id": "fba05dbd-37b7-422d-b0c4-831a85fc87c7",
   "metadata": {},
   "outputs": [
    {
     "data": {
      "text/plain": [
       "Ann(\n",
       "  (fc1): Linear(in_features=784, out_features=256, bias=True)\n",
       "  (fc2): Linear(in_features=256, out_features=128, bias=True)\n",
       "  (fc3): Linear(in_features=128, out_features=10, bias=True)\n",
       ")"
      ]
     },
     "execution_count": 9,
     "metadata": {},
     "output_type": "execute_result"
    }
   ],
   "source": [
    "#학습 모드 지정\n",
    "model.train() #모델을 학습모드로 변환"
   ]
  },
  {
   "cell_type": "code",
   "execution_count": 10,
   "id": "3a68a31e-96f6-4e62-a90e-8e24e6b2f76b",
   "metadata": {},
   "outputs": [
    {
     "ename": "NameError",
     "evalue": "name 'images' is not defined",
     "output_type": "error",
     "traceback": [
      "\u001b[0;31m---------------------------------------------------------------------------\u001b[0m",
      "\u001b[0;31mNameError\u001b[0m                                 Traceback (most recent call last)",
      "Cell \u001b[0;32mIn[10], line 1\u001b[0m\n\u001b[0;32m----> 1\u001b[0m data, target \u001b[38;5;241m=\u001b[39m images\u001b[38;5;241m.\u001b[39mto(device), labels\u001b[38;5;241m.\u001b[39mto(device)\n\u001b[1;32m      2\u001b[0m data\u001b[38;5;241m.\u001b[39mshape, target\u001b[38;5;241m.\u001b[39mshape\n",
      "\u001b[0;31mNameError\u001b[0m: name 'images' is not defined"
     ]
    }
   ],
   "source": [
    "data, target = images.to(device), labels.to(device)\n",
    "data.shape, target.shape"
   ]
  },
  {
   "cell_type": "code",
   "execution_count": 11,
   "id": "6293a13c-96ea-4f85-bc2b-e215ee3003c2",
   "metadata": {},
   "outputs": [],
   "source": [
    "optimizer.zero_grad() #기울기 초기화"
   ]
  },
  {
   "cell_type": "code",
   "execution_count": 12,
   "id": "efef3108-df2d-48d6-a899-618f0747fc76",
   "metadata": {},
   "outputs": [
    {
     "ename": "NameError",
     "evalue": "name 'data' is not defined",
     "output_type": "error",
     "traceback": [
      "\u001b[0;31m---------------------------------------------------------------------------\u001b[0m",
      "\u001b[0;31mNameError\u001b[0m                                 Traceback (most recent call last)",
      "Cell \u001b[0;32mIn[12], line 1\u001b[0m\n\u001b[0;32m----> 1\u001b[0m output \u001b[38;5;241m=\u001b[39m model(data)\n",
      "\u001b[0;31mNameError\u001b[0m: name 'data' is not defined"
     ]
    }
   ],
   "source": [
    "output = model(data)"
   ]
  },
  {
   "cell_type": "code",
   "execution_count": 13,
   "id": "a0112840-8484-4c52-85e5-9095cebb9194",
   "metadata": {},
   "outputs": [
    {
     "ename": "NameError",
     "evalue": "name 'output' is not defined",
     "output_type": "error",
     "traceback": [
      "\u001b[0;31m---------------------------------------------------------------------------\u001b[0m",
      "\u001b[0;31mNameError\u001b[0m                                 Traceback (most recent call last)",
      "Cell \u001b[0;32mIn[13], line 1\u001b[0m\n\u001b[0;32m----> 1\u001b[0m loss \u001b[38;5;241m=\u001b[39m f\u001b[38;5;241m.\u001b[39mcross_entropy(output, target)\n",
      "\u001b[0;31mNameError\u001b[0m: name 'output' is not defined"
     ]
    }
   ],
   "source": [
    "loss = f.cross_entropy(output, target) # 예측해야할 값이 2개면 binary_entropy()"
   ]
  },
  {
   "cell_type": "code",
   "execution_count": 14,
   "id": "2ef6b337-a7d9-4317-bb12-99dfa1e2bc54",
   "metadata": {},
   "outputs": [
    {
     "ename": "NameError",
     "evalue": "name 'loss' is not defined",
     "output_type": "error",
     "traceback": [
      "\u001b[0;31m---------------------------------------------------------------------------\u001b[0m",
      "\u001b[0;31mNameError\u001b[0m                                 Traceback (most recent call last)",
      "Cell \u001b[0;32mIn[14], line 1\u001b[0m\n\u001b[0;32m----> 1\u001b[0m loss\u001b[38;5;241m.\u001b[39mbackward()\n",
      "\u001b[0;31mNameError\u001b[0m: name 'loss' is not defined"
     ]
    }
   ],
   "source": [
    "loss.backward() #기울기를 구함 역연산"
   ]
  },
  {
   "cell_type": "code",
   "execution_count": 15,
   "id": "417c9937-267a-4848-8424-b0ae2fd80cf8",
   "metadata": {},
   "outputs": [],
   "source": [
    "optimizer.step()"
   ]
  },
  {
   "cell_type": "code",
   "execution_count": null,
   "id": "b24a8100-c826-423e-843e-2e4d514914f2",
   "metadata": {},
   "outputs": [],
   "source": []
  }
 ],
 "metadata": {
  "kernelspec": {
   "display_name": "Python 3 (ipykernel)",
   "language": "python",
   "name": "python3"
  },
  "language_info": {
   "codemirror_mode": {
    "name": "ipython",
    "version": 3
   },
   "file_extension": ".py",
   "mimetype": "text/x-python",
   "name": "python",
   "nbconvert_exporter": "python",
   "pygments_lexer": "ipython3",
   "version": "3.12.2"
  }
 },
 "nbformat": 4,
 "nbformat_minor": 5
}
